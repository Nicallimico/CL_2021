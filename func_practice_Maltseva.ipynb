{
  "nbformat": 4,
  "nbformat_minor": 0,
  "metadata": {
    "kernelspec": {
      "display_name": "Python 3",
      "language": "python",
      "name": "python3"
    },
    "language_info": {
      "codemirror_mode": {
        "name": "ipython",
        "version": 3
      },
      "file_extension": ".py",
      "mimetype": "text/x-python",
      "name": "python",
      "nbconvert_exporter": "python",
      "pygments_lexer": "ipython3",
      "version": "3.8.2"
    },
    "colab": {
      "name": "func-practice.ipynb",
      "provenance": [],
      "collapsed_sections": []
    }
  },
  "cells": [
    {
      "cell_type": "code",
      "metadata": {
        "id": "wpzRupBZHcxz"
      },
      "source": [
        ""
      ],
      "execution_count": null,
      "outputs": []
    },
    {
      "cell_type": "markdown",
      "metadata": {
        "id": "ylixGHVOvAqB"
      },
      "source": [
        "## Classwork\n",
        "\n",
        "*Сделайте одну задачу на выбор. Выполнение больше одной приветствуется*"
      ]
    },
    {
      "cell_type": "markdown",
      "metadata": {
        "id": "WbpgWXdHvgV8"
      },
      "source": [
        "**Задача 1.**  Напишите генератор названий компаний (почти как генератор паролей). \n",
        "Пусть в названии компании будет 6 частей, рандомно выбирающихся из списка names.\n",
        "\n",
        "Сделайте это функцией"
      ]
    },
    {
      "cell_type": "code",
      "metadata": {
        "id": "lIwa6cOqvcTs"
      },
      "source": [
        "# генератор названий компаний\n",
        "\n",
        "import random\n",
        "\n",
        "names = [\"пром\",\"агро\",\"торг\",\"урал\",\"север\",\"юг\",\"техно\",\n",
        "\"экспо\",\"метал\",\"нефть\",\"сельхоз\",\"фарм\",\"строй\",\n",
        "\"-кредит\",\"алмаз\",\"-девелопмент\",\"развитие\",\"мос\",\n",
        "\"рос\",\"кубань\",\"сибирь\",\"восток\",\"нано\",\"софт\",\n",
        "\"микро\",\"онлайн-\",\"инвест\",\"текстиль\",\"-цемент\"]\n",
        "\n",
        "\n",
        "# Ваш код ниже\n",
        "\n"
      ],
      "execution_count": 62,
      "outputs": []
    },
    {
      "cell_type": "code",
      "metadata": {
        "id": "AZWZflx8S5Rr"
      },
      "source": [
        "def creator_num():\n",
        "  N = int(input('Насколько значительна Ваша компания (от 1 до 10)? '))\n",
        "  company = random.sample(names,N)\n",
        "  i = 0\n",
        "  res = ''\n",
        "  while i < N:\n",
        "    res = res + company[i].capitalize()\n",
        "    i = i+1\n",
        "  return(res)"
      ],
      "execution_count": 32,
      "outputs": []
    },
    {
      "cell_type": "code",
      "metadata": {
        "colab": {
          "base_uri": "https://localhost:8080/",
          "height": 52
        },
        "id": "XYl8NBX1TC8a",
        "outputId": "2a707ecb-7de1-411a-92bc-fe45c8f0fbb9"
      },
      "source": [
        "creator_num()\n"
      ],
      "execution_count": 33,
      "outputs": [
        {
          "name": "stdout",
          "output_type": "stream",
          "text": [
            "Насколько значительна Ваша компания (от 1 до 10)? 2\n"
          ]
        },
        {
          "output_type": "execute_result",
          "data": {
            "application/vnd.google.colaboratory.intrinsic+json": {
              "type": "string"
            },
            "text/plain": [
              "'СофтСевер'"
            ]
          },
          "metadata": {},
          "execution_count": 33
        }
      ]
    },
    {
      "cell_type": "code",
      "metadata": {
        "id": "LUSBV-nbHsz3"
      },
      "source": [
        "def creator_fix6():\n",
        "  res = random.choice(names).capitalize() + random.choice(names).capitalize()+random.choice(names).capitalize()+random.choice(names).capitalize()+random.choice(names).capitalize()+random.choice(names).capitalize()\n",
        "  return(res)"
      ],
      "execution_count": null,
      "outputs": []
    },
    {
      "cell_type": "code",
      "metadata": {
        "id": "t5eZqyz7A76r",
        "colab": {
          "base_uri": "https://localhost:8080/",
          "height": 35
        },
        "outputId": "50980ce4-c03b-44e8-fc90-96e70a091c6d"
      },
      "source": [
        "def creator_list(N):\n",
        "  company = random.sample(names,N)\n",
        "  res = ''.join([company[i].capitalize() for i in range (0,N)])\n",
        "  return(res)\n",
        "\n",
        "creator_list(3)"
      ],
      "execution_count": 37,
      "outputs": [
        {
          "output_type": "execute_result",
          "data": {
            "application/vnd.google.colaboratory.intrinsic+json": {
              "type": "string"
            },
            "text/plain": [
              "'МеталОнлайнРос'"
            ]
          },
          "metadata": {},
          "execution_count": 37
        }
      ]
    },
    {
      "cell_type": "code",
      "metadata": {
        "colab": {
          "base_uri": "https://localhost:8080/",
          "height": 35
        },
        "id": "K_2g92JCdYJa",
        "outputId": "6d096a33-5fa3-4500-a645-78e93665f2be"
      },
      "source": [
        "def creator_cut(N):\n",
        "  '''Принимает количество частей, возвращает наименование, в котором каждая часть с заглавной буквы, небуквенные символы в начале и в конце убраны.'''\n",
        "  res = ''.join([random.choice(names).capitalize() for i in range (0,N)]).strip('*!-+&?') \n",
        "  return(res)\n",
        "\n",
        "creator_cut(3)"
      ],
      "execution_count": 131,
      "outputs": [
        {
          "output_type": "execute_result",
          "data": {
            "application/vnd.google.colaboratory.intrinsic+json": {
              "type": "string"
            },
            "text/plain": [
              "'ИнвестАгроСофт'"
            ]
          },
          "metadata": {},
          "execution_count": 131
        }
      ]
    },
    {
      "cell_type": "markdown",
      "metadata": {
        "id": "2YOxZ89ZdEkF"
      },
      "source": [
        "Попробуем собрать бот-именователь."
      ]
    },
    {
      "cell_type": "code",
      "metadata": {
        "colab": {
          "base_uri": "https://localhost:8080/"
        },
        "id": "UGjGFG-NWHws",
        "outputId": "d1fefdd7-e660-4d02-8929-b74583aaa4ed"
      },
      "source": [
        "N = input('Насколько значительна Ваша компания (от 1 до 10)? ')\n",
        "while N.isalpha() == 1:\n",
        "  N = input('Попробуйте снова. \\nНасколько значительна Ваша компания (от 1 до 10)? ')\n",
        " \n",
        "N = int(N)\n",
        "if 0 < N < 11:\n",
        "  print(creator_cut(N))  \n",
        "elif N > 10:\n",
        "  print('Лучше воспользуйтесь услугами имиджмейкера и дизайнера - уже можно.')\n",
        "else:\n",
        "  print('Воспользуйтесь услугами психолога, у Вас слишком низкая самооценка!')\n",
        "  \n",
        "  "
      ],
      "execution_count": 132,
      "outputs": [
        {
          "output_type": "stream",
          "name": "stdout",
          "text": [
            "Насколько значительна Ваша компания (от 1 до 10)? 9\n",
            "СельхозЭкспо-цементВостокАгроРазвитиеРосАлмазНано\n"
          ]
        }
      ]
    },
    {
      "cell_type": "markdown",
      "metadata": {
        "id": "89kGqyi8HcyS"
      },
      "source": [
        "**Задача 2.** Генератор паролей\n",
        "\n",
        "Пароли, получаемые в результате, должны удовлетворять следующим условиям: \n",
        "     - в пароле есть 3 заглавные буквы (любые, в любом месте пароля)\n",
        "     - в пароле есть 4 цифры (любые, в любом месте)\n",
        "     - оставшиеся символы пароля - строчные латинские буквы\n",
        "     \n",
        "Создайте функцию, которая генерирует пароли, пользователь задает число символов в пароле (как аргумент функции)"
      ]
    },
    {
      "cell_type": "code",
      "metadata": {
        "colab": {
          "base_uri": "https://localhost:8080/"
        },
        "id": "rB6Lm7LVmAWD",
        "outputId": "8ca48315-05a8-4e8f-e661-c9c5af43e28d"
      },
      "source": [
        "import string\n",
        "def get_rndstr(str,lenght):\n",
        "  return(''.join([random.choice(str) for i in range(0,lenght)]))\n",
        "\n",
        "def password(lenght):\n",
        "  L = 3 # задаем количество заглавных букв \n",
        "  D = 4 # задаем количество цифр\n",
        "  letters_set = get_rndstr(string.ascii_uppercase,L)\n",
        "  # print(letters_set)\n",
        "  digits_set = get_rndstr(string.digits,D)\n",
        "  # print(digits_set)\n",
        "  others_set = get_rndstr(string.ascii_lowercase,lenght-L-D)\n",
        "  # print(others_set)\n",
        "  res = ''.join(random.sample((letters_set + digits_set + others_set), lenght))\n",
        "  return(print(\"Ваш пароль:\", res))\n",
        "\n",
        "password(8)"
      ],
      "execution_count": 123,
      "outputs": [
        {
          "output_type": "stream",
          "name": "stdout",
          "text": [
            "Ваш пароль: 2V24Y1Hf\n"
          ]
        }
      ]
    },
    {
      "cell_type": "code",
      "metadata": {
        "id": "HCc9FgJ-Mcds"
      },
      "source": [
        ""
      ],
      "execution_count": null,
      "outputs": []
    }
  ]
}