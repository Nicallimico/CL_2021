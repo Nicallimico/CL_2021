{
  "cells": [
    {
      "cell_type": "markdown",
      "source": [
        "Попробуем синтаксический парсер SpaCy "
      ],
      "metadata": {
        "id": "fBVTPwj0vMmq"
      },
      "id": "fBVTPwj0vMmq"
    },
    {
      "cell_type": "code",
      "execution_count": null,
      "id": "df8956e9",
      "metadata": {
        "id": "df8956e9"
      },
      "outputs": [],
      "source": [
        "! pip3 install -U spacy"
      ]
    },
    {
      "cell_type": "code",
      "execution_count": null,
      "id": "869dc608",
      "metadata": {
        "id": "869dc608"
      },
      "outputs": [],
      "source": [
        "import spacy\n",
        "from spacy import displacy\n",
        "# !python -m spacy download ru_core_news_lg"
      ]
    },
    {
      "cell_type": "code",
      "execution_count": null,
      "id": "8d3d6a19",
      "metadata": {
        "id": "8d3d6a19"
      },
      "outputs": [],
      "source": [
        "nlp = spacy.load('ru_core_news_lg')"
      ]
    },
    {
      "cell_type": "code",
      "execution_count": null,
      "id": "99eae03a",
      "metadata": {
        "id": "99eae03a"
      },
      "outputs": [],
      "source": [
        "sent = \"В Африке акулы, В Африке гориллы, В Африке большие Злые крокодилы.\""
      ]
    },
    {
      "cell_type": "code",
      "execution_count": null,
      "id": "f1fd97cf",
      "metadata": {
        "id": "f1fd97cf",
        "outputId": "f844e37a-bd3c-499c-e122-56a30b8c8a5f"
      },
      "outputs": [
        {
          "name": "stdout",
          "output_type": "stream",
          "text": [
            "В case Африке PROPN []\n",
            "Африке ROOT Африке PROPN [В, акулы, Африке, Африке, .]\n",
            "акулы nmod Африке PROPN []\n",
            ", punct Африке PROPN []\n",
            "В case Африке PROPN []\n",
            "Африке conj Африке PROPN [,, В, гориллы]\n",
            "гориллы nmod Африке PROPN []\n",
            ", punct Африке PROPN []\n",
            "В case Африке PROPN []\n",
            "Африке conj Африке PROPN [,, В, крокодилы]\n",
            "большие amod крокодилы NOUN []\n",
            "Злые amod крокодилы NOUN []\n",
            "крокодилы nsubj Африке PROPN [большие, Злые]\n",
            ". punct Африке PROPN []\n"
          ]
        },
        {
          "data": {
            "text/html": [
              "<span class=\"tex2jax_ignore\"><svg xmlns=\"http://www.w3.org/2000/svg\" xmlns:xlink=\"http://www.w3.org/1999/xlink\" xml:lang=\"ru\" id=\"497d832067794251b476ff69d895d07f-0\" class=\"displacy\" width=\"1975\" height=\"487.0\" direction=\"ltr\" style=\"max-width: none; height: 487.0px; color: #000000; background: #ffffff; font-family: Arial; direction: ltr\">\n",
              "<text class=\"displacy-token\" fill=\"currentColor\" text-anchor=\"middle\" y=\"397.0\">\n",
              "    <tspan class=\"displacy-word\" fill=\"currentColor\" x=\"50\">В</tspan>\n",
              "    <tspan class=\"displacy-tag\" dy=\"2em\" fill=\"currentColor\" x=\"50\">ADP</tspan>\n",
              "</text>\n",
              "\n",
              "<text class=\"displacy-token\" fill=\"currentColor\" text-anchor=\"middle\" y=\"397.0\">\n",
              "    <tspan class=\"displacy-word\" fill=\"currentColor\" x=\"225\">Африке</tspan>\n",
              "    <tspan class=\"displacy-tag\" dy=\"2em\" fill=\"currentColor\" x=\"225\">PROPN</tspan>\n",
              "</text>\n",
              "\n",
              "<text class=\"displacy-token\" fill=\"currentColor\" text-anchor=\"middle\" y=\"397.0\">\n",
              "    <tspan class=\"displacy-word\" fill=\"currentColor\" x=\"400\">акулы,</tspan>\n",
              "    <tspan class=\"displacy-tag\" dy=\"2em\" fill=\"currentColor\" x=\"400\">NOUN</tspan>\n",
              "</text>\n",
              "\n",
              "<text class=\"displacy-token\" fill=\"currentColor\" text-anchor=\"middle\" y=\"397.0\">\n",
              "    <tspan class=\"displacy-word\" fill=\"currentColor\" x=\"575\">В</tspan>\n",
              "    <tspan class=\"displacy-tag\" dy=\"2em\" fill=\"currentColor\" x=\"575\">ADP</tspan>\n",
              "</text>\n",
              "\n",
              "<text class=\"displacy-token\" fill=\"currentColor\" text-anchor=\"middle\" y=\"397.0\">\n",
              "    <tspan class=\"displacy-word\" fill=\"currentColor\" x=\"750\">Африке</tspan>\n",
              "    <tspan class=\"displacy-tag\" dy=\"2em\" fill=\"currentColor\" x=\"750\">PROPN</tspan>\n",
              "</text>\n",
              "\n",
              "<text class=\"displacy-token\" fill=\"currentColor\" text-anchor=\"middle\" y=\"397.0\">\n",
              "    <tspan class=\"displacy-word\" fill=\"currentColor\" x=\"925\">гориллы,</tspan>\n",
              "    <tspan class=\"displacy-tag\" dy=\"2em\" fill=\"currentColor\" x=\"925\">NOUN</tspan>\n",
              "</text>\n",
              "\n",
              "<text class=\"displacy-token\" fill=\"currentColor\" text-anchor=\"middle\" y=\"397.0\">\n",
              "    <tspan class=\"displacy-word\" fill=\"currentColor\" x=\"1100\">В</tspan>\n",
              "    <tspan class=\"displacy-tag\" dy=\"2em\" fill=\"currentColor\" x=\"1100\">ADP</tspan>\n",
              "</text>\n",
              "\n",
              "<text class=\"displacy-token\" fill=\"currentColor\" text-anchor=\"middle\" y=\"397.0\">\n",
              "    <tspan class=\"displacy-word\" fill=\"currentColor\" x=\"1275\">Африке</tspan>\n",
              "    <tspan class=\"displacy-tag\" dy=\"2em\" fill=\"currentColor\" x=\"1275\">PROPN</tspan>\n",
              "</text>\n",
              "\n",
              "<text class=\"displacy-token\" fill=\"currentColor\" text-anchor=\"middle\" y=\"397.0\">\n",
              "    <tspan class=\"displacy-word\" fill=\"currentColor\" x=\"1450\">большие</tspan>\n",
              "    <tspan class=\"displacy-tag\" dy=\"2em\" fill=\"currentColor\" x=\"1450\">ADJ</tspan>\n",
              "</text>\n",
              "\n",
              "<text class=\"displacy-token\" fill=\"currentColor\" text-anchor=\"middle\" y=\"397.0\">\n",
              "    <tspan class=\"displacy-word\" fill=\"currentColor\" x=\"1625\">Злые</tspan>\n",
              "    <tspan class=\"displacy-tag\" dy=\"2em\" fill=\"currentColor\" x=\"1625\">ADJ</tspan>\n",
              "</text>\n",
              "\n",
              "<text class=\"displacy-token\" fill=\"currentColor\" text-anchor=\"middle\" y=\"397.0\">\n",
              "    <tspan class=\"displacy-word\" fill=\"currentColor\" x=\"1800\">крокодилы.</tspan>\n",
              "    <tspan class=\"displacy-tag\" dy=\"2em\" fill=\"currentColor\" x=\"1800\">NOUN</tspan>\n",
              "</text>\n",
              "\n",
              "<g class=\"displacy-arrow\">\n",
              "    <path class=\"displacy-arc\" id=\"arrow-497d832067794251b476ff69d895d07f-0-0\" stroke-width=\"2px\" d=\"M70,352.0 C70,264.5 210.0,264.5 210.0,352.0\" fill=\"none\" stroke=\"currentColor\"/>\n",
              "    <text dy=\"1.25em\" style=\"font-size: 0.8em; letter-spacing: 1px\">\n",
              "        <textPath xlink:href=\"#arrow-497d832067794251b476ff69d895d07f-0-0\" class=\"displacy-label\" startOffset=\"50%\" side=\"left\" fill=\"currentColor\" text-anchor=\"middle\">case</textPath>\n",
              "    </text>\n",
              "    <path class=\"displacy-arrowhead\" d=\"M70,354.0 L62,342.0 78,342.0\" fill=\"currentColor\"/>\n",
              "</g>\n",
              "\n",
              "<g class=\"displacy-arrow\">\n",
              "    <path class=\"displacy-arc\" id=\"arrow-497d832067794251b476ff69d895d07f-0-1\" stroke-width=\"2px\" d=\"M245,352.0 C245,264.5 385.0,264.5 385.0,352.0\" fill=\"none\" stroke=\"currentColor\"/>\n",
              "    <text dy=\"1.25em\" style=\"font-size: 0.8em; letter-spacing: 1px\">\n",
              "        <textPath xlink:href=\"#arrow-497d832067794251b476ff69d895d07f-0-1\" class=\"displacy-label\" startOffset=\"50%\" side=\"left\" fill=\"currentColor\" text-anchor=\"middle\">nmod</textPath>\n",
              "    </text>\n",
              "    <path class=\"displacy-arrowhead\" d=\"M385.0,354.0 L393.0,342.0 377.0,342.0\" fill=\"currentColor\"/>\n",
              "</g>\n",
              "\n",
              "<g class=\"displacy-arrow\">\n",
              "    <path class=\"displacy-arc\" id=\"arrow-497d832067794251b476ff69d895d07f-0-2\" stroke-width=\"2px\" d=\"M595,352.0 C595,264.5 735.0,264.5 735.0,352.0\" fill=\"none\" stroke=\"currentColor\"/>\n",
              "    <text dy=\"1.25em\" style=\"font-size: 0.8em; letter-spacing: 1px\">\n",
              "        <textPath xlink:href=\"#arrow-497d832067794251b476ff69d895d07f-0-2\" class=\"displacy-label\" startOffset=\"50%\" side=\"left\" fill=\"currentColor\" text-anchor=\"middle\">case</textPath>\n",
              "    </text>\n",
              "    <path class=\"displacy-arrowhead\" d=\"M595,354.0 L587,342.0 603,342.0\" fill=\"currentColor\"/>\n",
              "</g>\n",
              "\n",
              "<g class=\"displacy-arrow\">\n",
              "    <path class=\"displacy-arc\" id=\"arrow-497d832067794251b476ff69d895d07f-0-3\" stroke-width=\"2px\" d=\"M245,352.0 C245,89.5 745.0,89.5 745.0,352.0\" fill=\"none\" stroke=\"currentColor\"/>\n",
              "    <text dy=\"1.25em\" style=\"font-size: 0.8em; letter-spacing: 1px\">\n",
              "        <textPath xlink:href=\"#arrow-497d832067794251b476ff69d895d07f-0-3\" class=\"displacy-label\" startOffset=\"50%\" side=\"left\" fill=\"currentColor\" text-anchor=\"middle\">conj</textPath>\n",
              "    </text>\n",
              "    <path class=\"displacy-arrowhead\" d=\"M745.0,354.0 L753.0,342.0 737.0,342.0\" fill=\"currentColor\"/>\n",
              "</g>\n",
              "\n",
              "<g class=\"displacy-arrow\">\n",
              "    <path class=\"displacy-arc\" id=\"arrow-497d832067794251b476ff69d895d07f-0-4\" stroke-width=\"2px\" d=\"M770,352.0 C770,264.5 910.0,264.5 910.0,352.0\" fill=\"none\" stroke=\"currentColor\"/>\n",
              "    <text dy=\"1.25em\" style=\"font-size: 0.8em; letter-spacing: 1px\">\n",
              "        <textPath xlink:href=\"#arrow-497d832067794251b476ff69d895d07f-0-4\" class=\"displacy-label\" startOffset=\"50%\" side=\"left\" fill=\"currentColor\" text-anchor=\"middle\">nmod</textPath>\n",
              "    </text>\n",
              "    <path class=\"displacy-arrowhead\" d=\"M910.0,354.0 L918.0,342.0 902.0,342.0\" fill=\"currentColor\"/>\n",
              "</g>\n",
              "\n",
              "<g class=\"displacy-arrow\">\n",
              "    <path class=\"displacy-arc\" id=\"arrow-497d832067794251b476ff69d895d07f-0-5\" stroke-width=\"2px\" d=\"M1120,352.0 C1120,264.5 1260.0,264.5 1260.0,352.0\" fill=\"none\" stroke=\"currentColor\"/>\n",
              "    <text dy=\"1.25em\" style=\"font-size: 0.8em; letter-spacing: 1px\">\n",
              "        <textPath xlink:href=\"#arrow-497d832067794251b476ff69d895d07f-0-5\" class=\"displacy-label\" startOffset=\"50%\" side=\"left\" fill=\"currentColor\" text-anchor=\"middle\">case</textPath>\n",
              "    </text>\n",
              "    <path class=\"displacy-arrowhead\" d=\"M1120,354.0 L1112,342.0 1128,342.0\" fill=\"currentColor\"/>\n",
              "</g>\n",
              "\n",
              "<g class=\"displacy-arrow\">\n",
              "    <path class=\"displacy-arc\" id=\"arrow-497d832067794251b476ff69d895d07f-0-6\" stroke-width=\"2px\" d=\"M245,352.0 C245,2.0 1275.0,2.0 1275.0,352.0\" fill=\"none\" stroke=\"currentColor\"/>\n",
              "    <text dy=\"1.25em\" style=\"font-size: 0.8em; letter-spacing: 1px\">\n",
              "        <textPath xlink:href=\"#arrow-497d832067794251b476ff69d895d07f-0-6\" class=\"displacy-label\" startOffset=\"50%\" side=\"left\" fill=\"currentColor\" text-anchor=\"middle\">conj</textPath>\n",
              "    </text>\n",
              "    <path class=\"displacy-arrowhead\" d=\"M1275.0,354.0 L1283.0,342.0 1267.0,342.0\" fill=\"currentColor\"/>\n",
              "</g>\n",
              "\n",
              "<g class=\"displacy-arrow\">\n",
              "    <path class=\"displacy-arc\" id=\"arrow-497d832067794251b476ff69d895d07f-0-7\" stroke-width=\"2px\" d=\"M1470,352.0 C1470,177.0 1790.0,177.0 1790.0,352.0\" fill=\"none\" stroke=\"currentColor\"/>\n",
              "    <text dy=\"1.25em\" style=\"font-size: 0.8em; letter-spacing: 1px\">\n",
              "        <textPath xlink:href=\"#arrow-497d832067794251b476ff69d895d07f-0-7\" class=\"displacy-label\" startOffset=\"50%\" side=\"left\" fill=\"currentColor\" text-anchor=\"middle\">amod</textPath>\n",
              "    </text>\n",
              "    <path class=\"displacy-arrowhead\" d=\"M1470,354.0 L1462,342.0 1478,342.0\" fill=\"currentColor\"/>\n",
              "</g>\n",
              "\n",
              "<g class=\"displacy-arrow\">\n",
              "    <path class=\"displacy-arc\" id=\"arrow-497d832067794251b476ff69d895d07f-0-8\" stroke-width=\"2px\" d=\"M1645,352.0 C1645,264.5 1785.0,264.5 1785.0,352.0\" fill=\"none\" stroke=\"currentColor\"/>\n",
              "    <text dy=\"1.25em\" style=\"font-size: 0.8em; letter-spacing: 1px\">\n",
              "        <textPath xlink:href=\"#arrow-497d832067794251b476ff69d895d07f-0-8\" class=\"displacy-label\" startOffset=\"50%\" side=\"left\" fill=\"currentColor\" text-anchor=\"middle\">amod</textPath>\n",
              "    </text>\n",
              "    <path class=\"displacy-arrowhead\" d=\"M1645,354.0 L1637,342.0 1653,342.0\" fill=\"currentColor\"/>\n",
              "</g>\n",
              "\n",
              "<g class=\"displacy-arrow\">\n",
              "    <path class=\"displacy-arc\" id=\"arrow-497d832067794251b476ff69d895d07f-0-9\" stroke-width=\"2px\" d=\"M1295,352.0 C1295,89.5 1795.0,89.5 1795.0,352.0\" fill=\"none\" stroke=\"currentColor\"/>\n",
              "    <text dy=\"1.25em\" style=\"font-size: 0.8em; letter-spacing: 1px\">\n",
              "        <textPath xlink:href=\"#arrow-497d832067794251b476ff69d895d07f-0-9\" class=\"displacy-label\" startOffset=\"50%\" side=\"left\" fill=\"currentColor\" text-anchor=\"middle\">nsubj</textPath>\n",
              "    </text>\n",
              "    <path class=\"displacy-arrowhead\" d=\"M1795.0,354.0 L1803.0,342.0 1787.0,342.0\" fill=\"currentColor\"/>\n",
              "</g>\n",
              "</svg></span>"
            ],
            "text/plain": [
              "<IPython.core.display.HTML object>"
            ]
          },
          "metadata": {},
          "output_type": "display_data"
        }
      ],
      "source": [
        "doc = nlp(sent)\n",
        "for token in doc:\n",
        "    print(token.text, token.dep_, token.head.text, token.head.pos_,\n",
        "            [child for child in token.children])\n",
        "\n",
        "\n",
        "displacy.render(doc, style='dep', jupyter=True)"
      ]
    },
    {
      "cell_type": "code",
      "execution_count": null,
      "id": "6a574919",
      "metadata": {
        "id": "6a574919",
        "outputId": "60539483-37eb-4c98-f1c8-0d7da7fd2071"
      },
      "outputs": [
        {
          "name": "stdout",
          "output_type": "stream",
          "text": [
            "В case Африке PROPN []\n",
            "Африке obl ходите VERB [В, акулы, Африке, кусать]\n",
            "акулы nmod Африке PROPN []\n",
            ", punct Африке PROPN []\n",
            "В case Африке PROPN []\n",
            "Африке conj Африке PROPN [,, В, гориллы]\n",
            "гориллы nmod Африке PROPN []\n",
            ", punct кусать VERB []\n",
            "В case Африке PROPN []\n",
            "Африке obl кусать VERB [В]\n",
            "большие amod крокодилы NOUN []\n",
            "Злые amod крокодилы NOUN []\n",
            "крокодилы nsubj кусать VERB [большие, Злые]\n",
            "Будут aux кусать VERB []\n",
            "вас obj кусать VERB []\n",
            "кусать conj Африке PROPN [,, Африке, крокодилы, Будут, вас, Бить]\n",
            ", punct Бить VERB []\n",
            "Бить conj кусать VERB [,]\n",
            "и cc ходите VERB []\n",
            "обижать,- nsubj ходите VERB []\n",
            "Не advmod ходите VERB []\n",
            "ходите ROOT ходите VERB [Африке, и, обижать,-, Не, дети, гулять, .]\n",
            ", punct дети NOUN []\n",
            "дети conj ходите VERB [,]\n",
            ", punct гулять VERB []\n",
            "В case Африку PROPN []\n",
            "Африку obl гулять VERB [В]\n",
            "гулять conj ходите VERB [,, Африку]\n",
            ". punct ходите VERB []\n"
          ]
        },
        {
          "data": {
            "text/html": [
              "<span class=\"tex2jax_ignore\"><svg xmlns=\"http://www.w3.org/2000/svg\" xmlns:xlink=\"http://www.w3.org/1999/xlink\" xml:lang=\"ru\" id=\"b3e4a4db18bc40f1a219e7b9beea04e0-0\" class=\"displacy\" width=\"4075\" height=\"749.5\" direction=\"ltr\" style=\"max-width: none; height: 749.5px; color: #000000; background: #ffffff; font-family: Arial; direction: ltr\">\n",
              "<text class=\"displacy-token\" fill=\"currentColor\" text-anchor=\"middle\" y=\"659.5\">\n",
              "    <tspan class=\"displacy-word\" fill=\"currentColor\" x=\"50\">В</tspan>\n",
              "    <tspan class=\"displacy-tag\" dy=\"2em\" fill=\"currentColor\" x=\"50\">ADP</tspan>\n",
              "</text>\n",
              "\n",
              "<text class=\"displacy-token\" fill=\"currentColor\" text-anchor=\"middle\" y=\"659.5\">\n",
              "    <tspan class=\"displacy-word\" fill=\"currentColor\" x=\"225\">Африке</tspan>\n",
              "    <tspan class=\"displacy-tag\" dy=\"2em\" fill=\"currentColor\" x=\"225\">PROPN</tspan>\n",
              "</text>\n",
              "\n",
              "<text class=\"displacy-token\" fill=\"currentColor\" text-anchor=\"middle\" y=\"659.5\">\n",
              "    <tspan class=\"displacy-word\" fill=\"currentColor\" x=\"400\">акулы,</tspan>\n",
              "    <tspan class=\"displacy-tag\" dy=\"2em\" fill=\"currentColor\" x=\"400\">NOUN</tspan>\n",
              "</text>\n",
              "\n",
              "<text class=\"displacy-token\" fill=\"currentColor\" text-anchor=\"middle\" y=\"659.5\">\n",
              "    <tspan class=\"displacy-word\" fill=\"currentColor\" x=\"575\">В</tspan>\n",
              "    <tspan class=\"displacy-tag\" dy=\"2em\" fill=\"currentColor\" x=\"575\">ADP</tspan>\n",
              "</text>\n",
              "\n",
              "<text class=\"displacy-token\" fill=\"currentColor\" text-anchor=\"middle\" y=\"659.5\">\n",
              "    <tspan class=\"displacy-word\" fill=\"currentColor\" x=\"750\">Африке</tspan>\n",
              "    <tspan class=\"displacy-tag\" dy=\"2em\" fill=\"currentColor\" x=\"750\">PROPN</tspan>\n",
              "</text>\n",
              "\n",
              "<text class=\"displacy-token\" fill=\"currentColor\" text-anchor=\"middle\" y=\"659.5\">\n",
              "    <tspan class=\"displacy-word\" fill=\"currentColor\" x=\"925\">гориллы,</tspan>\n",
              "    <tspan class=\"displacy-tag\" dy=\"2em\" fill=\"currentColor\" x=\"925\">NOUN</tspan>\n",
              "</text>\n",
              "\n",
              "<text class=\"displacy-token\" fill=\"currentColor\" text-anchor=\"middle\" y=\"659.5\">\n",
              "    <tspan class=\"displacy-word\" fill=\"currentColor\" x=\"1100\">В</tspan>\n",
              "    <tspan class=\"displacy-tag\" dy=\"2em\" fill=\"currentColor\" x=\"1100\">ADP</tspan>\n",
              "</text>\n",
              "\n",
              "<text class=\"displacy-token\" fill=\"currentColor\" text-anchor=\"middle\" y=\"659.5\">\n",
              "    <tspan class=\"displacy-word\" fill=\"currentColor\" x=\"1275\">Африке</tspan>\n",
              "    <tspan class=\"displacy-tag\" dy=\"2em\" fill=\"currentColor\" x=\"1275\">PROPN</tspan>\n",
              "</text>\n",
              "\n",
              "<text class=\"displacy-token\" fill=\"currentColor\" text-anchor=\"middle\" y=\"659.5\">\n",
              "    <tspan class=\"displacy-word\" fill=\"currentColor\" x=\"1450\">большие</tspan>\n",
              "    <tspan class=\"displacy-tag\" dy=\"2em\" fill=\"currentColor\" x=\"1450\">ADJ</tspan>\n",
              "</text>\n",
              "\n",
              "<text class=\"displacy-token\" fill=\"currentColor\" text-anchor=\"middle\" y=\"659.5\">\n",
              "    <tspan class=\"displacy-word\" fill=\"currentColor\" x=\"1625\">Злые</tspan>\n",
              "    <tspan class=\"displacy-tag\" dy=\"2em\" fill=\"currentColor\" x=\"1625\">ADJ</tspan>\n",
              "</text>\n",
              "\n",
              "<text class=\"displacy-token\" fill=\"currentColor\" text-anchor=\"middle\" y=\"659.5\">\n",
              "    <tspan class=\"displacy-word\" fill=\"currentColor\" x=\"1800\">крокодилы</tspan>\n",
              "    <tspan class=\"displacy-tag\" dy=\"2em\" fill=\"currentColor\" x=\"1800\">NOUN</tspan>\n",
              "</text>\n",
              "\n",
              "<text class=\"displacy-token\" fill=\"currentColor\" text-anchor=\"middle\" y=\"659.5\">\n",
              "    <tspan class=\"displacy-word\" fill=\"currentColor\" x=\"1975\">Будут</tspan>\n",
              "    <tspan class=\"displacy-tag\" dy=\"2em\" fill=\"currentColor\" x=\"1975\">AUX</tspan>\n",
              "</text>\n",
              "\n",
              "<text class=\"displacy-token\" fill=\"currentColor\" text-anchor=\"middle\" y=\"659.5\">\n",
              "    <tspan class=\"displacy-word\" fill=\"currentColor\" x=\"2150\">вас</tspan>\n",
              "    <tspan class=\"displacy-tag\" dy=\"2em\" fill=\"currentColor\" x=\"2150\">PRON</tspan>\n",
              "</text>\n",
              "\n",
              "<text class=\"displacy-token\" fill=\"currentColor\" text-anchor=\"middle\" y=\"659.5\">\n",
              "    <tspan class=\"displacy-word\" fill=\"currentColor\" x=\"2325\">кусать,</tspan>\n",
              "    <tspan class=\"displacy-tag\" dy=\"2em\" fill=\"currentColor\" x=\"2325\">VERB</tspan>\n",
              "</text>\n",
              "\n",
              "<text class=\"displacy-token\" fill=\"currentColor\" text-anchor=\"middle\" y=\"659.5\">\n",
              "    <tspan class=\"displacy-word\" fill=\"currentColor\" x=\"2500\">Бить</tspan>\n",
              "    <tspan class=\"displacy-tag\" dy=\"2em\" fill=\"currentColor\" x=\"2500\">VERB</tspan>\n",
              "</text>\n",
              "\n",
              "<text class=\"displacy-token\" fill=\"currentColor\" text-anchor=\"middle\" y=\"659.5\">\n",
              "    <tspan class=\"displacy-word\" fill=\"currentColor\" x=\"2675\">и</tspan>\n",
              "    <tspan class=\"displacy-tag\" dy=\"2em\" fill=\"currentColor\" x=\"2675\">CCONJ</tspan>\n",
              "</text>\n",
              "\n",
              "<text class=\"displacy-token\" fill=\"currentColor\" text-anchor=\"middle\" y=\"659.5\">\n",
              "    <tspan class=\"displacy-word\" fill=\"currentColor\" x=\"2850\">обижать,-</tspan>\n",
              "    <tspan class=\"displacy-tag\" dy=\"2em\" fill=\"currentColor\" x=\"2850\">PROPN</tspan>\n",
              "</text>\n",
              "\n",
              "<text class=\"displacy-token\" fill=\"currentColor\" text-anchor=\"middle\" y=\"659.5\">\n",
              "    <tspan class=\"displacy-word\" fill=\"currentColor\" x=\"3025\">Не</tspan>\n",
              "    <tspan class=\"displacy-tag\" dy=\"2em\" fill=\"currentColor\" x=\"3025\">PART</tspan>\n",
              "</text>\n",
              "\n",
              "<text class=\"displacy-token\" fill=\"currentColor\" text-anchor=\"middle\" y=\"659.5\">\n",
              "    <tspan class=\"displacy-word\" fill=\"currentColor\" x=\"3200\">ходите,</tspan>\n",
              "    <tspan class=\"displacy-tag\" dy=\"2em\" fill=\"currentColor\" x=\"3200\">VERB</tspan>\n",
              "</text>\n",
              "\n",
              "<text class=\"displacy-token\" fill=\"currentColor\" text-anchor=\"middle\" y=\"659.5\">\n",
              "    <tspan class=\"displacy-word\" fill=\"currentColor\" x=\"3375\">дети,</tspan>\n",
              "    <tspan class=\"displacy-tag\" dy=\"2em\" fill=\"currentColor\" x=\"3375\">NOUN</tspan>\n",
              "</text>\n",
              "\n",
              "<text class=\"displacy-token\" fill=\"currentColor\" text-anchor=\"middle\" y=\"659.5\">\n",
              "    <tspan class=\"displacy-word\" fill=\"currentColor\" x=\"3550\">В</tspan>\n",
              "    <tspan class=\"displacy-tag\" dy=\"2em\" fill=\"currentColor\" x=\"3550\">ADP</tspan>\n",
              "</text>\n",
              "\n",
              "<text class=\"displacy-token\" fill=\"currentColor\" text-anchor=\"middle\" y=\"659.5\">\n",
              "    <tspan class=\"displacy-word\" fill=\"currentColor\" x=\"3725\">Африку</tspan>\n",
              "    <tspan class=\"displacy-tag\" dy=\"2em\" fill=\"currentColor\" x=\"3725\">PROPN</tspan>\n",
              "</text>\n",
              "\n",
              "<text class=\"displacy-token\" fill=\"currentColor\" text-anchor=\"middle\" y=\"659.5\">\n",
              "    <tspan class=\"displacy-word\" fill=\"currentColor\" x=\"3900\">гулять.</tspan>\n",
              "    <tspan class=\"displacy-tag\" dy=\"2em\" fill=\"currentColor\" x=\"3900\">VERB</tspan>\n",
              "</text>\n",
              "\n",
              "<g class=\"displacy-arrow\">\n",
              "    <path class=\"displacy-arc\" id=\"arrow-b3e4a4db18bc40f1a219e7b9beea04e0-0-0\" stroke-width=\"2px\" d=\"M70,614.5 C70,527.0 195.0,527.0 195.0,614.5\" fill=\"none\" stroke=\"currentColor\"/>\n",
              "    <text dy=\"1.25em\" style=\"font-size: 0.8em; letter-spacing: 1px\">\n",
              "        <textPath xlink:href=\"#arrow-b3e4a4db18bc40f1a219e7b9beea04e0-0-0\" class=\"displacy-label\" startOffset=\"50%\" side=\"left\" fill=\"currentColor\" text-anchor=\"middle\">case</textPath>\n",
              "    </text>\n",
              "    <path class=\"displacy-arrowhead\" d=\"M70,616.5 L62,604.5 78,604.5\" fill=\"currentColor\"/>\n",
              "</g>\n",
              "\n",
              "<g class=\"displacy-arrow\">\n",
              "    <path class=\"displacy-arc\" id=\"arrow-b3e4a4db18bc40f1a219e7b9beea04e0-0-1\" stroke-width=\"2px\" d=\"M245,614.5 C245,2.0 3200.0,2.0 3200.0,614.5\" fill=\"none\" stroke=\"currentColor\"/>\n",
              "    <text dy=\"1.25em\" style=\"font-size: 0.8em; letter-spacing: 1px\">\n",
              "        <textPath xlink:href=\"#arrow-b3e4a4db18bc40f1a219e7b9beea04e0-0-1\" class=\"displacy-label\" startOffset=\"50%\" side=\"left\" fill=\"currentColor\" text-anchor=\"middle\">obl</textPath>\n",
              "    </text>\n",
              "    <path class=\"displacy-arrowhead\" d=\"M245,616.5 L237,604.5 253,604.5\" fill=\"currentColor\"/>\n",
              "</g>\n",
              "\n",
              "<g class=\"displacy-arrow\">\n",
              "    <path class=\"displacy-arc\" id=\"arrow-b3e4a4db18bc40f1a219e7b9beea04e0-0-2\" stroke-width=\"2px\" d=\"M245,614.5 C245,527.0 370.0,527.0 370.0,614.5\" fill=\"none\" stroke=\"currentColor\"/>\n",
              "    <text dy=\"1.25em\" style=\"font-size: 0.8em; letter-spacing: 1px\">\n",
              "        <textPath xlink:href=\"#arrow-b3e4a4db18bc40f1a219e7b9beea04e0-0-2\" class=\"displacy-label\" startOffset=\"50%\" side=\"left\" fill=\"currentColor\" text-anchor=\"middle\">nmod</textPath>\n",
              "    </text>\n",
              "    <path class=\"displacy-arrowhead\" d=\"M370.0,616.5 L378.0,604.5 362.0,604.5\" fill=\"currentColor\"/>\n",
              "</g>\n",
              "\n",
              "<g class=\"displacy-arrow\">\n",
              "    <path class=\"displacy-arc\" id=\"arrow-b3e4a4db18bc40f1a219e7b9beea04e0-0-3\" stroke-width=\"2px\" d=\"M595,614.5 C595,527.0 720.0,527.0 720.0,614.5\" fill=\"none\" stroke=\"currentColor\"/>\n",
              "    <text dy=\"1.25em\" style=\"font-size: 0.8em; letter-spacing: 1px\">\n",
              "        <textPath xlink:href=\"#arrow-b3e4a4db18bc40f1a219e7b9beea04e0-0-3\" class=\"displacy-label\" startOffset=\"50%\" side=\"left\" fill=\"currentColor\" text-anchor=\"middle\">case</textPath>\n",
              "    </text>\n",
              "    <path class=\"displacy-arrowhead\" d=\"M595,616.5 L587,604.5 603,604.5\" fill=\"currentColor\"/>\n",
              "</g>\n",
              "\n",
              "<g class=\"displacy-arrow\">\n",
              "    <path class=\"displacy-arc\" id=\"arrow-b3e4a4db18bc40f1a219e7b9beea04e0-0-4\" stroke-width=\"2px\" d=\"M245,614.5 C245,352.0 730.0,352.0 730.0,614.5\" fill=\"none\" stroke=\"currentColor\"/>\n",
              "    <text dy=\"1.25em\" style=\"font-size: 0.8em; letter-spacing: 1px\">\n",
              "        <textPath xlink:href=\"#arrow-b3e4a4db18bc40f1a219e7b9beea04e0-0-4\" class=\"displacy-label\" startOffset=\"50%\" side=\"left\" fill=\"currentColor\" text-anchor=\"middle\">conj</textPath>\n",
              "    </text>\n",
              "    <path class=\"displacy-arrowhead\" d=\"M730.0,616.5 L738.0,604.5 722.0,604.5\" fill=\"currentColor\"/>\n",
              "</g>\n",
              "\n",
              "<g class=\"displacy-arrow\">\n",
              "    <path class=\"displacy-arc\" id=\"arrow-b3e4a4db18bc40f1a219e7b9beea04e0-0-5\" stroke-width=\"2px\" d=\"M770,614.5 C770,527.0 895.0,527.0 895.0,614.5\" fill=\"none\" stroke=\"currentColor\"/>\n",
              "    <text dy=\"1.25em\" style=\"font-size: 0.8em; letter-spacing: 1px\">\n",
              "        <textPath xlink:href=\"#arrow-b3e4a4db18bc40f1a219e7b9beea04e0-0-5\" class=\"displacy-label\" startOffset=\"50%\" side=\"left\" fill=\"currentColor\" text-anchor=\"middle\">nmod</textPath>\n",
              "    </text>\n",
              "    <path class=\"displacy-arrowhead\" d=\"M895.0,616.5 L903.0,604.5 887.0,604.5\" fill=\"currentColor\"/>\n",
              "</g>\n",
              "\n",
              "<g class=\"displacy-arrow\">\n",
              "    <path class=\"displacy-arc\" id=\"arrow-b3e4a4db18bc40f1a219e7b9beea04e0-0-6\" stroke-width=\"2px\" d=\"M1120,614.5 C1120,527.0 1245.0,527.0 1245.0,614.5\" fill=\"none\" stroke=\"currentColor\"/>\n",
              "    <text dy=\"1.25em\" style=\"font-size: 0.8em; letter-spacing: 1px\">\n",
              "        <textPath xlink:href=\"#arrow-b3e4a4db18bc40f1a219e7b9beea04e0-0-6\" class=\"displacy-label\" startOffset=\"50%\" side=\"left\" fill=\"currentColor\" text-anchor=\"middle\">case</textPath>\n",
              "    </text>\n",
              "    <path class=\"displacy-arrowhead\" d=\"M1120,616.5 L1112,604.5 1128,604.5\" fill=\"currentColor\"/>\n",
              "</g>\n",
              "\n",
              "<g class=\"displacy-arrow\">\n",
              "    <path class=\"displacy-arc\" id=\"arrow-b3e4a4db18bc40f1a219e7b9beea04e0-0-7\" stroke-width=\"2px\" d=\"M1295,614.5 C1295,177.0 2315.0,177.0 2315.0,614.5\" fill=\"none\" stroke=\"currentColor\"/>\n",
              "    <text dy=\"1.25em\" style=\"font-size: 0.8em; letter-spacing: 1px\">\n",
              "        <textPath xlink:href=\"#arrow-b3e4a4db18bc40f1a219e7b9beea04e0-0-7\" class=\"displacy-label\" startOffset=\"50%\" side=\"left\" fill=\"currentColor\" text-anchor=\"middle\">obl</textPath>\n",
              "    </text>\n",
              "    <path class=\"displacy-arrowhead\" d=\"M1295,616.5 L1287,604.5 1303,604.5\" fill=\"currentColor\"/>\n",
              "</g>\n",
              "\n",
              "<g class=\"displacy-arrow\">\n",
              "    <path class=\"displacy-arc\" id=\"arrow-b3e4a4db18bc40f1a219e7b9beea04e0-0-8\" stroke-width=\"2px\" d=\"M1470,614.5 C1470,439.5 1775.0,439.5 1775.0,614.5\" fill=\"none\" stroke=\"currentColor\"/>\n",
              "    <text dy=\"1.25em\" style=\"font-size: 0.8em; letter-spacing: 1px\">\n",
              "        <textPath xlink:href=\"#arrow-b3e4a4db18bc40f1a219e7b9beea04e0-0-8\" class=\"displacy-label\" startOffset=\"50%\" side=\"left\" fill=\"currentColor\" text-anchor=\"middle\">amod</textPath>\n",
              "    </text>\n",
              "    <path class=\"displacy-arrowhead\" d=\"M1470,616.5 L1462,604.5 1478,604.5\" fill=\"currentColor\"/>\n",
              "</g>\n",
              "\n",
              "<g class=\"displacy-arrow\">\n",
              "    <path class=\"displacy-arc\" id=\"arrow-b3e4a4db18bc40f1a219e7b9beea04e0-0-9\" stroke-width=\"2px\" d=\"M1645,614.5 C1645,527.0 1770.0,527.0 1770.0,614.5\" fill=\"none\" stroke=\"currentColor\"/>\n",
              "    <text dy=\"1.25em\" style=\"font-size: 0.8em; letter-spacing: 1px\">\n",
              "        <textPath xlink:href=\"#arrow-b3e4a4db18bc40f1a219e7b9beea04e0-0-9\" class=\"displacy-label\" startOffset=\"50%\" side=\"left\" fill=\"currentColor\" text-anchor=\"middle\">amod</textPath>\n",
              "    </text>\n",
              "    <path class=\"displacy-arrowhead\" d=\"M1645,616.5 L1637,604.5 1653,604.5\" fill=\"currentColor\"/>\n",
              "</g>\n",
              "\n",
              "<g class=\"displacy-arrow\">\n",
              "    <path class=\"displacy-arc\" id=\"arrow-b3e4a4db18bc40f1a219e7b9beea04e0-0-10\" stroke-width=\"2px\" d=\"M1820,614.5 C1820,352.0 2305.0,352.0 2305.0,614.5\" fill=\"none\" stroke=\"currentColor\"/>\n",
              "    <text dy=\"1.25em\" style=\"font-size: 0.8em; letter-spacing: 1px\">\n",
              "        <textPath xlink:href=\"#arrow-b3e4a4db18bc40f1a219e7b9beea04e0-0-10\" class=\"displacy-label\" startOffset=\"50%\" side=\"left\" fill=\"currentColor\" text-anchor=\"middle\">nsubj</textPath>\n",
              "    </text>\n",
              "    <path class=\"displacy-arrowhead\" d=\"M1820,616.5 L1812,604.5 1828,604.5\" fill=\"currentColor\"/>\n",
              "</g>\n",
              "\n",
              "<g class=\"displacy-arrow\">\n",
              "    <path class=\"displacy-arc\" id=\"arrow-b3e4a4db18bc40f1a219e7b9beea04e0-0-11\" stroke-width=\"2px\" d=\"M1995,614.5 C1995,439.5 2300.0,439.5 2300.0,614.5\" fill=\"none\" stroke=\"currentColor\"/>\n",
              "    <text dy=\"1.25em\" style=\"font-size: 0.8em; letter-spacing: 1px\">\n",
              "        <textPath xlink:href=\"#arrow-b3e4a4db18bc40f1a219e7b9beea04e0-0-11\" class=\"displacy-label\" startOffset=\"50%\" side=\"left\" fill=\"currentColor\" text-anchor=\"middle\">aux</textPath>\n",
              "    </text>\n",
              "    <path class=\"displacy-arrowhead\" d=\"M1995,616.5 L1987,604.5 2003,604.5\" fill=\"currentColor\"/>\n",
              "</g>\n",
              "\n",
              "<g class=\"displacy-arrow\">\n",
              "    <path class=\"displacy-arc\" id=\"arrow-b3e4a4db18bc40f1a219e7b9beea04e0-0-12\" stroke-width=\"2px\" d=\"M2170,614.5 C2170,527.0 2295.0,527.0 2295.0,614.5\" fill=\"none\" stroke=\"currentColor\"/>\n",
              "    <text dy=\"1.25em\" style=\"font-size: 0.8em; letter-spacing: 1px\">\n",
              "        <textPath xlink:href=\"#arrow-b3e4a4db18bc40f1a219e7b9beea04e0-0-12\" class=\"displacy-label\" startOffset=\"50%\" side=\"left\" fill=\"currentColor\" text-anchor=\"middle\">obj</textPath>\n",
              "    </text>\n",
              "    <path class=\"displacy-arrowhead\" d=\"M2170,616.5 L2162,604.5 2178,604.5\" fill=\"currentColor\"/>\n",
              "</g>\n",
              "\n",
              "<g class=\"displacy-arrow\">\n",
              "    <path class=\"displacy-arc\" id=\"arrow-b3e4a4db18bc40f1a219e7b9beea04e0-0-13\" stroke-width=\"2px\" d=\"M245,614.5 C245,89.5 2320.0,89.5 2320.0,614.5\" fill=\"none\" stroke=\"currentColor\"/>\n",
              "    <text dy=\"1.25em\" style=\"font-size: 0.8em; letter-spacing: 1px\">\n",
              "        <textPath xlink:href=\"#arrow-b3e4a4db18bc40f1a219e7b9beea04e0-0-13\" class=\"displacy-label\" startOffset=\"50%\" side=\"left\" fill=\"currentColor\" text-anchor=\"middle\">conj</textPath>\n",
              "    </text>\n",
              "    <path class=\"displacy-arrowhead\" d=\"M2320.0,616.5 L2328.0,604.5 2312.0,604.5\" fill=\"currentColor\"/>\n",
              "</g>\n",
              "\n",
              "<g class=\"displacy-arrow\">\n",
              "    <path class=\"displacy-arc\" id=\"arrow-b3e4a4db18bc40f1a219e7b9beea04e0-0-14\" stroke-width=\"2px\" d=\"M2345,614.5 C2345,527.0 2470.0,527.0 2470.0,614.5\" fill=\"none\" stroke=\"currentColor\"/>\n",
              "    <text dy=\"1.25em\" style=\"font-size: 0.8em; letter-spacing: 1px\">\n",
              "        <textPath xlink:href=\"#arrow-b3e4a4db18bc40f1a219e7b9beea04e0-0-14\" class=\"displacy-label\" startOffset=\"50%\" side=\"left\" fill=\"currentColor\" text-anchor=\"middle\">conj</textPath>\n",
              "    </text>\n",
              "    <path class=\"displacy-arrowhead\" d=\"M2470.0,616.5 L2478.0,604.5 2462.0,604.5\" fill=\"currentColor\"/>\n",
              "</g>\n",
              "\n",
              "<g class=\"displacy-arrow\">\n",
              "    <path class=\"displacy-arc\" id=\"arrow-b3e4a4db18bc40f1a219e7b9beea04e0-0-15\" stroke-width=\"2px\" d=\"M2695,614.5 C2695,352.0 3180.0,352.0 3180.0,614.5\" fill=\"none\" stroke=\"currentColor\"/>\n",
              "    <text dy=\"1.25em\" style=\"font-size: 0.8em; letter-spacing: 1px\">\n",
              "        <textPath xlink:href=\"#arrow-b3e4a4db18bc40f1a219e7b9beea04e0-0-15\" class=\"displacy-label\" startOffset=\"50%\" side=\"left\" fill=\"currentColor\" text-anchor=\"middle\">cc</textPath>\n",
              "    </text>\n",
              "    <path class=\"displacy-arrowhead\" d=\"M2695,616.5 L2687,604.5 2703,604.5\" fill=\"currentColor\"/>\n",
              "</g>\n",
              "\n",
              "<g class=\"displacy-arrow\">\n",
              "    <path class=\"displacy-arc\" id=\"arrow-b3e4a4db18bc40f1a219e7b9beea04e0-0-16\" stroke-width=\"2px\" d=\"M2870,614.5 C2870,439.5 3175.0,439.5 3175.0,614.5\" fill=\"none\" stroke=\"currentColor\"/>\n",
              "    <text dy=\"1.25em\" style=\"font-size: 0.8em; letter-spacing: 1px\">\n",
              "        <textPath xlink:href=\"#arrow-b3e4a4db18bc40f1a219e7b9beea04e0-0-16\" class=\"displacy-label\" startOffset=\"50%\" side=\"left\" fill=\"currentColor\" text-anchor=\"middle\">nsubj</textPath>\n",
              "    </text>\n",
              "    <path class=\"displacy-arrowhead\" d=\"M2870,616.5 L2862,604.5 2878,604.5\" fill=\"currentColor\"/>\n",
              "</g>\n",
              "\n",
              "<g class=\"displacy-arrow\">\n",
              "    <path class=\"displacy-arc\" id=\"arrow-b3e4a4db18bc40f1a219e7b9beea04e0-0-17\" stroke-width=\"2px\" d=\"M3045,614.5 C3045,527.0 3170.0,527.0 3170.0,614.5\" fill=\"none\" stroke=\"currentColor\"/>\n",
              "    <text dy=\"1.25em\" style=\"font-size: 0.8em; letter-spacing: 1px\">\n",
              "        <textPath xlink:href=\"#arrow-b3e4a4db18bc40f1a219e7b9beea04e0-0-17\" class=\"displacy-label\" startOffset=\"50%\" side=\"left\" fill=\"currentColor\" text-anchor=\"middle\">advmod</textPath>\n",
              "    </text>\n",
              "    <path class=\"displacy-arrowhead\" d=\"M3045,616.5 L3037,604.5 3053,604.5\" fill=\"currentColor\"/>\n",
              "</g>\n",
              "\n",
              "<g class=\"displacy-arrow\">\n",
              "    <path class=\"displacy-arc\" id=\"arrow-b3e4a4db18bc40f1a219e7b9beea04e0-0-18\" stroke-width=\"2px\" d=\"M3220,614.5 C3220,527.0 3345.0,527.0 3345.0,614.5\" fill=\"none\" stroke=\"currentColor\"/>\n",
              "    <text dy=\"1.25em\" style=\"font-size: 0.8em; letter-spacing: 1px\">\n",
              "        <textPath xlink:href=\"#arrow-b3e4a4db18bc40f1a219e7b9beea04e0-0-18\" class=\"displacy-label\" startOffset=\"50%\" side=\"left\" fill=\"currentColor\" text-anchor=\"middle\">conj</textPath>\n",
              "    </text>\n",
              "    <path class=\"displacy-arrowhead\" d=\"M3345.0,616.5 L3353.0,604.5 3337.0,604.5\" fill=\"currentColor\"/>\n",
              "</g>\n",
              "\n",
              "<g class=\"displacy-arrow\">\n",
              "    <path class=\"displacy-arc\" id=\"arrow-b3e4a4db18bc40f1a219e7b9beea04e0-0-19\" stroke-width=\"2px\" d=\"M3570,614.5 C3570,527.0 3695.0,527.0 3695.0,614.5\" fill=\"none\" stroke=\"currentColor\"/>\n",
              "    <text dy=\"1.25em\" style=\"font-size: 0.8em; letter-spacing: 1px\">\n",
              "        <textPath xlink:href=\"#arrow-b3e4a4db18bc40f1a219e7b9beea04e0-0-19\" class=\"displacy-label\" startOffset=\"50%\" side=\"left\" fill=\"currentColor\" text-anchor=\"middle\">case</textPath>\n",
              "    </text>\n",
              "    <path class=\"displacy-arrowhead\" d=\"M3570,616.5 L3562,604.5 3578,604.5\" fill=\"currentColor\"/>\n",
              "</g>\n",
              "\n",
              "<g class=\"displacy-arrow\">\n",
              "    <path class=\"displacy-arc\" id=\"arrow-b3e4a4db18bc40f1a219e7b9beea04e0-0-20\" stroke-width=\"2px\" d=\"M3745,614.5 C3745,527.0 3870.0,527.0 3870.0,614.5\" fill=\"none\" stroke=\"currentColor\"/>\n",
              "    <text dy=\"1.25em\" style=\"font-size: 0.8em; letter-spacing: 1px\">\n",
              "        <textPath xlink:href=\"#arrow-b3e4a4db18bc40f1a219e7b9beea04e0-0-20\" class=\"displacy-label\" startOffset=\"50%\" side=\"left\" fill=\"currentColor\" text-anchor=\"middle\">obl</textPath>\n",
              "    </text>\n",
              "    <path class=\"displacy-arrowhead\" d=\"M3745,616.5 L3737,604.5 3753,604.5\" fill=\"currentColor\"/>\n",
              "</g>\n",
              "\n",
              "<g class=\"displacy-arrow\">\n",
              "    <path class=\"displacy-arc\" id=\"arrow-b3e4a4db18bc40f1a219e7b9beea04e0-0-21\" stroke-width=\"2px\" d=\"M3220,614.5 C3220,264.5 3885.0,264.5 3885.0,614.5\" fill=\"none\" stroke=\"currentColor\"/>\n",
              "    <text dy=\"1.25em\" style=\"font-size: 0.8em; letter-spacing: 1px\">\n",
              "        <textPath xlink:href=\"#arrow-b3e4a4db18bc40f1a219e7b9beea04e0-0-21\" class=\"displacy-label\" startOffset=\"50%\" side=\"left\" fill=\"currentColor\" text-anchor=\"middle\">conj</textPath>\n",
              "    </text>\n",
              "    <path class=\"displacy-arrowhead\" d=\"M3885.0,616.5 L3893.0,604.5 3877.0,604.5\" fill=\"currentColor\"/>\n",
              "</g>\n",
              "</svg></span>"
            ],
            "text/plain": [
              "<IPython.core.display.HTML object>"
            ]
          },
          "metadata": {},
          "output_type": "display_data"
        }
      ],
      "source": [
        "sent = \"В Африке акулы, В Африке гориллы, В Африке большие Злые крокодилы Будут вас кусать, Бить и обижать,- Не ходите, дети, В Африку гулять.\"\n",
        "doc = nlp(sent)\n",
        "for token in doc:\n",
        "    print(token.text, token.dep_, token.head.text, token.head.pos_,\n",
        "            [child for child in token.children])\n",
        "from spacy import displacy\n",
        "displacy.render(doc, style='dep', jupyter=True)"
      ]
    },
    {
      "cell_type": "markdown",
      "source": [
        "Проверим, какой результат даст парсер UDpipe"
      ],
      "metadata": {
        "id": "pg9UgYGBvYjo"
      },
      "id": "pg9UgYGBvYjo"
    },
    {
      "cell_type": "code",
      "execution_count": 1,
      "id": "4bc91d3d",
      "metadata": {
        "colab": {
          "base_uri": "https://localhost:8080/"
        },
        "id": "4bc91d3d",
        "outputId": "2e5d6221-f1d7-4c23-b0e9-937135727c96"
      },
      "outputs": [
        {
          "output_type": "stream",
          "name": "stdout",
          "text": [
            "Collecting ufal.udpipe\n",
            "  Downloading ufal.udpipe-1.2.0.3.tar.gz (304 kB)\n",
            "\u001b[K     |████████████████████████████████| 304 kB 4.2 MB/s \n",
            "\u001b[?25hBuilding wheels for collected packages: ufal.udpipe\n",
            "  Building wheel for ufal.udpipe (setup.py) ... \u001b[?25l\u001b[?25hdone\n",
            "  Created wheel for ufal.udpipe: filename=ufal.udpipe-1.2.0.3-cp37-cp37m-linux_x86_64.whl size=5626692 sha256=ef8c36eeda9af4b53677feef15bbb44d5ae566e87d87f28bd87111fda5f0502c\n",
            "  Stored in directory: /root/.cache/pip/wheels/b8/b5/8e/3da091629a21ce2d10bf90759d0cb034ba10a5cf7a01e83d64\n",
            "Successfully built ufal.udpipe\n",
            "Installing collected packages: ufal.udpipe\n",
            "Successfully installed ufal.udpipe-1.2.0.3\n"
          ]
        }
      ],
      "source": [
        "! pip3 install ufal.udpipe"
      ]
    },
    {
      "cell_type": "code",
      "source": [
        "from ufal.udpipe import Model, Pipeline"
      ],
      "metadata": {
        "id": "sQQjcFUPvh4Z"
      },
      "id": "sQQjcFUPvh4Z",
      "execution_count": 2,
      "outputs": []
    },
    {
      "cell_type": "code",
      "source": [
        "UDPIPE_MODEL_FN = \"model_ru.udpipe\"\n",
        "!wget -O {UDPIPE_MODEL_FN} https://github.com/jwijffels/udpipe.models.ud.2.0/blob/master/inst/udpipe-ud-2.0-170801/russian-ud-2.0-170801.udpipe?raw=true"
      ],
      "metadata": {
        "colab": {
          "base_uri": "https://localhost:8080/"
        },
        "id": "vDPyAGXsvlIu",
        "outputId": "ce60cafa-b039-4da5-9cbf-e51524c26c51"
      },
      "id": "vDPyAGXsvlIu",
      "execution_count": 3,
      "outputs": [
        {
          "output_type": "stream",
          "name": "stdout",
          "text": [
            "--2022-02-13 15:47:17--  https://github.com/jwijffels/udpipe.models.ud.2.0/blob/master/inst/udpipe-ud-2.0-170801/russian-ud-2.0-170801.udpipe?raw=true\n",
            "Resolving github.com (github.com)... 52.192.72.89\n",
            "Connecting to github.com (github.com)|52.192.72.89|:443... connected.\n",
            "HTTP request sent, awaiting response... 302 Found\n",
            "Location: https://github.com/jwijffels/udpipe.models.ud.2.0/raw/master/inst/udpipe-ud-2.0-170801/russian-ud-2.0-170801.udpipe [following]\n",
            "--2022-02-13 15:47:18--  https://github.com/jwijffels/udpipe.models.ud.2.0/raw/master/inst/udpipe-ud-2.0-170801/russian-ud-2.0-170801.udpipe\n",
            "Reusing existing connection to github.com:443.\n",
            "HTTP request sent, awaiting response... 302 Found\n",
            "Location: https://raw.githubusercontent.com/jwijffels/udpipe.models.ud.2.0/master/inst/udpipe-ud-2.0-170801/russian-ud-2.0-170801.udpipe [following]\n",
            "--2022-02-13 15:47:18--  https://raw.githubusercontent.com/jwijffels/udpipe.models.ud.2.0/master/inst/udpipe-ud-2.0-170801/russian-ud-2.0-170801.udpipe\n",
            "Resolving raw.githubusercontent.com (raw.githubusercontent.com)... 185.199.108.133, 185.199.109.133, 185.199.110.133, ...\n",
            "Connecting to raw.githubusercontent.com (raw.githubusercontent.com)|185.199.108.133|:443... connected.\n",
            "HTTP request sent, awaiting response... 200 OK\n",
            "Length: 13265262 (13M) [application/octet-stream]\n",
            "Saving to: ‘model_ru.udpipe’\n",
            "\n",
            "model_ru.udpipe     100%[===================>]  12.65M  --.-KB/s    in 0.1s    \n",
            "\n",
            "2022-02-13 15:47:19 (102 MB/s) - ‘model_ru.udpipe’ saved [13265262/13265262]\n",
            "\n"
          ]
        }
      ]
    },
    {
      "cell_type": "code",
      "source": [
        "model = Model.load(UDPIPE_MODEL_FN)\n",
        "pipeline = Pipeline(model, 'generic_tokenizer', '','','')"
      ],
      "metadata": {
        "id": "9bWuJPoBvniD"
      },
      "id": "9bWuJPoBvniD",
      "execution_count": 4,
      "outputs": []
    },
    {
      "cell_type": "code",
      "source": [
        "sentence = \"В Африке акулы, В Африке гориллы, В Африке большие Злые крокодилы\"\n",
        "parsed = pipeline.process(sentence) # функция process сделает синтаксический анализ\n",
        "\n",
        "print(parsed)"
      ],
      "metadata": {
        "colab": {
          "base_uri": "https://localhost:8080/"
        },
        "id": "iT_syXhWvqao",
        "outputId": "bc7db991-96a0-4ada-d7f1-80e166275f47"
      },
      "id": "iT_syXhWvqao",
      "execution_count": 5,
      "outputs": [
        {
          "output_type": "stream",
          "name": "stdout",
          "text": [
            "# newdoc\n",
            "# newpar\n",
            "# sent_id = 1\n",
            "# text = В Африке акулы, В Африке гориллы, В Африке большие Злые крокодилы\n",
            "1\tВ\tВ\tADP\tIN\t_\t2\tcase\t_\t_\n",
            "2\tАфрике\tАФРИКА\tPROPN\tNNP\tAnimacy=Inan|Case=Loc|Gender=Fem|Number=Sing\t0\troot\t_\t_\n",
            "3\tакулы\tАКУЛА\tNOUN\tNN\tAnimacy=Anim|Case=Nom|Gender=Fem|Number=Plur\t2\tappos\t_\tSpaceAfter=No\n",
            "4\t,\t,\tPUNCT\t,\t_\t3\tpunct\t_\t_\n",
            "5\tВ\tВ\tADP\tIN\t_\t6\tcase\t_\t_\n",
            "6\tАфрике\tАФРИКА\tPROPN\tNNP\tAnimacy=Inan|Case=Loc|Gender=Fem|Number=Sing\t7\tnmod\t_\t_\n",
            "7\tгориллы\tгориллы\tNOUN\tNN\tAnimacy=Inan|Case=Nom|Gender=Masc|Number=Plur\t2\tappos\t_\tSpaceAfter=No\n",
            "8\t,\t,\tPUNCT\t,\t_\t2\tpunct\t_\t_\n",
            "9\tВ\tВ\tADP\tIN\t_\t10\tcase\t_\t_\n",
            "10\tАфрике\tАФРИКА\tPROPN\tNNP\tAnimacy=Inan|Case=Loc|Gender=Fem|Number=Sing\t13\tnmod\t_\t_\n",
            "11\tбольшие\tБОЛЬШОЙ\tADJ\tJJS\tAnimacy=Inan|Case=Nom|Degree=Sup|Number=Plur\t10\tamod\t_\t_\n",
            "12\tЗлые\tЗлые\tADJ\tJJL\tAnimacy=Inan|Case=Nom|Number=Plur\t10\tamod\t_\t_\n",
            "13\tкрокодилы\tкрокодИЛА\tNOUN\tNN\tAnimacy=Inan|Case=Nom|Gender=Masc|Number=Plur\t2\tappos\t_\tSpacesAfter=\\n\n",
            "\n",
            "\n"
          ]
        }
      ]
    },
    {
      "cell_type": "code",
      "source": [
        "from nltk import DependencyGraph, Tree \n"
      ],
      "metadata": {
        "id": "_f5uG5FWv1du"
      },
      "id": "_f5uG5FWv1du",
      "execution_count": 6,
      "outputs": []
    },
    {
      "cell_type": "code",
      "source": [
        "def conllu_to_list(parser_result): \n",
        "# аргумент - это conllu-файл, который получили в результате синтаксического анализа \n",
        "    sents = []\n",
        "    for sent in parser_result.split('\\n\\n'):\n",
        "\n",
        "        # убираем коменты\n",
        "        sent = '\\n'.join([line for line in sent.split('\\n') if not line.startswith('#')])\n",
        "        \n",
        "        # заменяем регистр для root\n",
        "        sent = sent.replace('\\troot\\t', '\\tROOT\\t')\n",
        "        sents.append(sent)\n",
        "    return sents"
      ],
      "metadata": {
        "id": "5pr79qJVwC9T"
      },
      "id": "5pr79qJVwC9T",
      "execution_count": 7,
      "outputs": []
    },
    {
      "cell_type": "code",
      "source": [
        "ud = conllu_to_list(parsed)"
      ],
      "metadata": {
        "id": "-Nyfoh21wFKW"
      },
      "id": "-Nyfoh21wFKW",
      "execution_count": 8,
      "outputs": []
    },
    {
      "cell_type": "code",
      "source": [
        "ud_graph = DependencyGraph(tree_str=ud[0])\n",
        "ud_graph"
      ],
      "metadata": {
        "colab": {
          "base_uri": "https://localhost:8080/",
          "height": 544
        },
        "id": "VzwsIU-bwKKA",
        "outputId": "73f5d33e-b8cb-4047-d9ba-3ec5abe38704"
      },
      "id": "VzwsIU-bwKKA",
      "execution_count": 9,
      "outputs": [
        {
          "output_type": "execute_result",
          "data": {
            "text/plain": [
              "<DependencyGraph with 14 nodes>"
            ],
            "image/svg+xml": "<?xml version=\"1.0\" encoding=\"UTF-8\" standalone=\"no\"?>\n<!DOCTYPE svg PUBLIC \"-//W3C//DTD SVG 1.1//EN\"\n \"http://www.w3.org/Graphics/SVG/1.1/DTD/svg11.dtd\">\n<!-- Generated by graphviz version 2.40.1 (20161225.0304)\n -->\n<!-- Title: G Pages: 1 -->\n<svg width=\"496pt\" height=\"392pt\"\n viewBox=\"0.00 0.00 496.00 392.00\" xmlns=\"http://www.w3.org/2000/svg\" xmlns:xlink=\"http://www.w3.org/1999/xlink\">\n<g id=\"graph0\" class=\"graph\" transform=\"scale(1 1) rotate(0) translate(4 388)\">\n<title>G</title>\n<polygon fill=\"#ffffff\" stroke=\"transparent\" points=\"-4,4 -4,-388 492,-388 492,4 -4,4\"/>\n<!-- 0 -->\n<g id=\"node1\" class=\"node\">\n<title>0</title>\n<text text-anchor=\"middle\" x=\"208\" y=\"-362.3\" font-family=\"Times,serif\" font-size=\"14.00\" fill=\"#000000\">0 (None)</text>\n</g>\n<!-- 2 -->\n<g id=\"node2\" class=\"node\">\n<title>2</title>\n<text text-anchor=\"middle\" x=\"208\" y=\"-275.3\" font-family=\"Times,serif\" font-size=\"14.00\" fill=\"#000000\">2 (Африке)</text>\n</g>\n<!-- 0&#45;&gt;2 -->\n<g id=\"edge1\" class=\"edge\">\n<title>0&#45;&gt;2</title>\n<path fill=\"none\" stroke=\"#000000\" d=\"M208,-347.9735C208,-336.1918 208,-320.5607 208,-307.1581\"/>\n<polygon fill=\"#000000\" stroke=\"#000000\" points=\"211.5001,-307.0033 208,-297.0034 204.5001,-307.0034 211.5001,-307.0033\"/>\n<text text-anchor=\"middle\" x=\"228\" y=\"-318.8\" font-family=\"Times,serif\" font-size=\"14.00\" fill=\"#000000\">ROOT</text>\n</g>\n<!-- 1 -->\n<g id=\"node3\" class=\"node\">\n<title>1</title>\n<text text-anchor=\"middle\" x=\"27\" y=\"-188.3\" font-family=\"Times,serif\" font-size=\"14.00\" fill=\"#000000\">1 (В)</text>\n</g>\n<!-- 2&#45;&gt;1 -->\n<g id=\"edge2\" class=\"edge\">\n<title>2&#45;&gt;1</title>\n<path fill=\"none\" stroke=\"#000000\" d=\"M166.367,-261.6246C153.0606,-255.8897 138.3294,-249.3493 125,-243 104.2617,-233.1215 81.4784,-221.3236 63.1025,-211.5645\"/>\n<polygon fill=\"#000000\" stroke=\"#000000\" points=\"64.6674,-208.4324 54.1973,-206.8117 61.3715,-214.6079 64.6674,-208.4324\"/>\n<text text-anchor=\"middle\" x=\"137\" y=\"-231.8\" font-family=\"Times,serif\" font-size=\"14.00\" fill=\"#000000\">case</text>\n</g>\n<!-- 3 -->\n<g id=\"node4\" class=\"node\">\n<title>3</title>\n<text text-anchor=\"middle\" x=\"109\" y=\"-188.3\" font-family=\"Times,serif\" font-size=\"14.00\" fill=\"#000000\">3 (акулы)</text>\n</g>\n<!-- 2&#45;&gt;3 -->\n<g id=\"edge3\" class=\"edge\">\n<title>2&#45;&gt;3</title>\n<path fill=\"none\" stroke=\"#000000\" d=\"M187.4871,-260.9735C172.8856,-248.1419 153.0884,-230.7443 137.0302,-216.6326\"/>\n<polygon fill=\"#000000\" stroke=\"#000000\" points=\"139.3087,-213.9755 129.4866,-210.0034 134.6878,-219.2336 139.3087,-213.9755\"/>\n<text text-anchor=\"middle\" x=\"182\" y=\"-231.8\" font-family=\"Times,serif\" font-size=\"14.00\" fill=\"#000000\">appos</text>\n</g>\n<!-- 7 -->\n<g id=\"node5\" class=\"node\">\n<title>7</title>\n<text text-anchor=\"middle\" x=\"208\" y=\"-188.3\" font-family=\"Times,serif\" font-size=\"14.00\" fill=\"#000000\">7 (гориллы)</text>\n</g>\n<!-- 2&#45;&gt;7 -->\n<g id=\"edge4\" class=\"edge\">\n<title>2&#45;&gt;7</title>\n<path fill=\"none\" stroke=\"#000000\" d=\"M208,-260.9735C208,-249.1918 208,-233.5607 208,-220.1581\"/>\n<polygon fill=\"#000000\" stroke=\"#000000\" points=\"211.5001,-220.0033 208,-210.0034 204.5001,-220.0034 211.5001,-220.0033\"/>\n<text text-anchor=\"middle\" x=\"225\" y=\"-231.8\" font-family=\"Times,serif\" font-size=\"14.00\" fill=\"#000000\">appos</text>\n</g>\n<!-- 13 -->\n<g id=\"node6\" class=\"node\">\n<title>13</title>\n<text text-anchor=\"middle\" x=\"326\" y=\"-188.3\" font-family=\"Times,serif\" font-size=\"14.00\" fill=\"#000000\">13 (крокодилы)</text>\n</g>\n<!-- 2&#45;&gt;13 -->\n<g id=\"edge5\" class=\"edge\">\n<title>2&#45;&gt;13</title>\n<path fill=\"none\" stroke=\"#000000\" d=\"M232.4497,-260.9735C250.0908,-247.9669 274.0949,-230.269 293.3708,-216.0571\"/>\n<polygon fill=\"#000000\" stroke=\"#000000\" points=\"295.6098,-218.7548 301.5816,-210.0034 291.4558,-213.1206 295.6098,-218.7548\"/>\n<text text-anchor=\"middle\" x=\"292\" y=\"-231.8\" font-family=\"Times,serif\" font-size=\"14.00\" fill=\"#000000\">appos</text>\n</g>\n<!-- 8 -->\n<g id=\"node7\" class=\"node\">\n<title>8</title>\n<text text-anchor=\"middle\" x=\"426\" y=\"-188.3\" font-family=\"Times,serif\" font-size=\"14.00\" fill=\"#000000\">8 (,)</text>\n</g>\n<!-- 2&#45;&gt;8 -->\n<g id=\"edge6\" class=\"edge\">\n<title>2&#45;&gt;8</title>\n<path fill=\"none\" stroke=\"#000000\" d=\"M249.6492,-265.5153C269.0299,-259.0378 292.319,-250.9642 313,-243 345.0308,-230.665 354.7383,-226.3409 389.5389,-210.1259\"/>\n<polygon fill=\"#000000\" stroke=\"#000000\" points=\"391.3717,-213.1331 398.9559,-205.7351 388.4136,-206.7888 391.3717,-213.1331\"/>\n<text text-anchor=\"middle\" x=\"366.5\" y=\"-231.8\" font-family=\"Times,serif\" font-size=\"14.00\" fill=\"#000000\">punct</text>\n</g>\n<!-- 4 -->\n<g id=\"node8\" class=\"node\">\n<title>4</title>\n<text text-anchor=\"middle\" x=\"109\" y=\"-101.3\" font-family=\"Times,serif\" font-size=\"14.00\" fill=\"#000000\">4 (,)</text>\n</g>\n<!-- 3&#45;&gt;4 -->\n<g id=\"edge7\" class=\"edge\">\n<title>3&#45;&gt;4</title>\n<path fill=\"none\" stroke=\"#000000\" d=\"M109,-173.9735C109,-162.1918 109,-146.5607 109,-133.1581\"/>\n<polygon fill=\"#000000\" stroke=\"#000000\" points=\"112.5001,-133.0033 109,-123.0034 105.5001,-133.0034 112.5001,-133.0033\"/>\n<text text-anchor=\"middle\" x=\"125.5\" y=\"-144.8\" font-family=\"Times,serif\" font-size=\"14.00\" fill=\"#000000\">punct</text>\n</g>\n<!-- 6 -->\n<g id=\"node10\" class=\"node\">\n<title>6</title>\n<text text-anchor=\"middle\" x=\"202\" y=\"-101.3\" font-family=\"Times,serif\" font-size=\"14.00\" fill=\"#000000\">6 (Африке)</text>\n</g>\n<!-- 7&#45;&gt;6 -->\n<g id=\"edge9\" class=\"edge\">\n<title>7&#45;&gt;6</title>\n<path fill=\"none\" stroke=\"#000000\" d=\"M206.7568,-173.9735C205.9443,-162.1918 204.8663,-146.5607 203.9419,-133.1581\"/>\n<polygon fill=\"#000000\" stroke=\"#000000\" points=\"207.4214,-132.7388 203.2416,-123.0034 200.438,-133.2205 207.4214,-132.7388\"/>\n<text text-anchor=\"middle\" x=\"223\" y=\"-144.8\" font-family=\"Times,serif\" font-size=\"14.00\" fill=\"#000000\">nmod</text>\n</g>\n<!-- 10 -->\n<g id=\"node12\" class=\"node\">\n<title>10</title>\n<text text-anchor=\"middle\" x=\"342\" y=\"-101.3\" font-family=\"Times,serif\" font-size=\"14.00\" fill=\"#000000\">10 (Африке)</text>\n</g>\n<!-- 13&#45;&gt;10 -->\n<g id=\"edge13\" class=\"edge\">\n<title>13&#45;&gt;10</title>\n<path fill=\"none\" stroke=\"#000000\" d=\"M329.3152,-173.9735C331.482,-162.1918 334.3567,-146.5607 336.8215,-133.1581\"/>\n<polygon fill=\"#000000\" stroke=\"#000000\" points=\"340.3225,-133.4715 338.689,-123.0034 333.4379,-132.2053 340.3225,-133.4715\"/>\n<text text-anchor=\"middle\" x=\"352\" y=\"-144.8\" font-family=\"Times,serif\" font-size=\"14.00\" fill=\"#000000\">nmod</text>\n</g>\n<!-- 5 -->\n<g id=\"node9\" class=\"node\">\n<title>5</title>\n<text text-anchor=\"middle\" x=\"181\" y=\"-14.3\" font-family=\"Times,serif\" font-size=\"14.00\" fill=\"#000000\">5 (В)</text>\n</g>\n<!-- 6&#45;&gt;5 -->\n<g id=\"edge8\" class=\"edge\">\n<title>6&#45;&gt;5</title>\n<path fill=\"none\" stroke=\"#000000\" d=\"M197.6488,-86.9735C194.7768,-75.0751 190.9571,-59.2508 187.7008,-45.7606\"/>\n<polygon fill=\"#000000\" stroke=\"#000000\" points=\"191.0944,-44.9029 185.3456,-36.0034 184.2898,-46.5455 191.0944,-44.9029\"/>\n<text text-anchor=\"middle\" x=\"205\" y=\"-57.8\" font-family=\"Times,serif\" font-size=\"14.00\" fill=\"#000000\">case</text>\n</g>\n<!-- 9 -->\n<g id=\"node11\" class=\"node\">\n<title>9</title>\n<text text-anchor=\"middle\" x=\"253\" y=\"-14.3\" font-family=\"Times,serif\" font-size=\"14.00\" fill=\"#000000\">9 (В)</text>\n</g>\n<!-- 10&#45;&gt;9 -->\n<g id=\"edge10\" class=\"edge\">\n<title>10&#45;&gt;9</title>\n<path fill=\"none\" stroke=\"#000000\" d=\"M323.5591,-86.9735C310.5519,-74.2586 292.9582,-57.0603 278.5934,-43.0183\"/>\n<polygon fill=\"#000000\" stroke=\"#000000\" points=\"281.0148,-40.4908 271.4172,-36.0034 276.1216,-45.4965 281.0148,-40.4908\"/>\n<text text-anchor=\"middle\" x=\"315\" y=\"-57.8\" font-family=\"Times,serif\" font-size=\"14.00\" fill=\"#000000\">case</text>\n</g>\n<!-- 11 -->\n<g id=\"node13\" class=\"node\">\n<title>11</title>\n<text text-anchor=\"middle\" x=\"347\" y=\"-14.3\" font-family=\"Times,serif\" font-size=\"14.00\" fill=\"#000000\">11 (большие)</text>\n</g>\n<!-- 10&#45;&gt;11 -->\n<g id=\"edge11\" class=\"edge\">\n<title>10&#45;&gt;11</title>\n<path fill=\"none\" stroke=\"#000000\" d=\"M343.036,-86.9735C343.7131,-75.1918 344.6115,-59.5607 345.3817,-46.1581\"/>\n<polygon fill=\"#000000\" stroke=\"#000000\" points=\"348.8857,-46.1877 345.9653,-36.0034 341.8972,-45.786 348.8857,-46.1877\"/>\n<text text-anchor=\"middle\" x=\"361.5\" y=\"-57.8\" font-family=\"Times,serif\" font-size=\"14.00\" fill=\"#000000\">amod</text>\n</g>\n<!-- 12 -->\n<g id=\"node14\" class=\"node\">\n<title>12</title>\n<text text-anchor=\"middle\" x=\"451\" y=\"-14.3\" font-family=\"Times,serif\" font-size=\"14.00\" fill=\"#000000\">12 (Злые)</text>\n</g>\n<!-- 10&#45;&gt;12 -->\n<g id=\"edge12\" class=\"edge\">\n<title>10&#45;&gt;12</title>\n<path fill=\"none\" stroke=\"#000000\" d=\"M364.5849,-86.9735C380.8074,-74.0253 402.855,-56.4276 420.6196,-42.2485\"/>\n<polygon fill=\"#000000\" stroke=\"#000000\" points=\"422.8117,-44.9771 428.4441,-36.0034 418.445,-39.5061 422.8117,-44.9771\"/>\n<text text-anchor=\"middle\" x=\"420.5\" y=\"-57.8\" font-family=\"Times,serif\" font-size=\"14.00\" fill=\"#000000\">amod</text>\n</g>\n</g>\n</svg>\n"
          },
          "metadata": {},
          "execution_count": 9
        }
      ]
    },
    {
      "cell_type": "code",
      "source": [
        "sentence = \"В Африке акулы, В Африке гориллы,  Африке большие Злые крокодилы Будут вас кусать, Бить и обижать,- Не ходите, дети, В Африку гулять.\"\n",
        "parsed = pipeline.process(sentence) # функция process сделает синтаксический анализ\n",
        "\n",
        "print(parsed)"
      ],
      "metadata": {
        "colab": {
          "base_uri": "https://localhost:8080/"
        },
        "id": "7QpNAnRZxNuB",
        "outputId": "55f71f3a-ed64-4ce7-e2f7-f064d9252522"
      },
      "id": "7QpNAnRZxNuB",
      "execution_count": 10,
      "outputs": [
        {
          "output_type": "stream",
          "name": "stdout",
          "text": [
            "# newdoc\n",
            "# newpar\n",
            "# sent_id = 1\n",
            "# text = В Африке акулы, В Африке гориллы, Африке большие Злые крокодилы Будут вас кусать, Бить и обижать,- Не ходите, дети, В Африку гулять.\n",
            "1\tВ\tВ\tADP\tIN\t_\t2\tcase\t_\t_\n",
            "2\tАфрике\tАФРИКА\tPROPN\tNNP\tAnimacy=Inan|Case=Loc|Gender=Fem|Number=Sing\t13\tobl\t_\t_\n",
            "3\tакулы\tАКУЛА\tNOUN\tNN\tAnimacy=Anim|Case=Nom|Gender=Fem|Number=Plur\t2\tconj\t_\tSpaceAfter=No\n",
            "4\t,\t,\tPUNCT\t,\t_\t3\tpunct\t_\t_\n",
            "5\tВ\tВ\tADP\tIN\t_\t6\tcase\t_\t_\n",
            "6\tАфрике\tАФРИКА\tPROPN\tNNP\tAnimacy=Inan|Case=Loc|Gender=Fem|Number=Sing\t2\tconj\t_\t_\n",
            "7\tгориллы\tгориллы\tNOUN\tNN\tAnimacy=Inan|Case=Nom|Gender=Masc|Number=Plur\t6\tappos\t_\tSpaceAfter=No\n",
            "8\t,\t,\tPUNCT\t,\t_\t6\tpunct\t_\tSpacesAfter=\\s\\s\n",
            "9\tАфрике\tАФРИКА\tPROPN\tNNP\tAnimacy=Anim|Case=Loc|Gender=Masc|Number=Sing\t2\tflat\t_\t_\n",
            "10\tбольшие\tБОЛЬШОЙ\tADJ\tJJS\tAnimacy=Inan|Case=Nom|Degree=Sup|Number=Plur\t9\tamod\t_\t_\n",
            "11\tЗлые\tЗлые\tADJ\tJJL\tAnimacy=Inan|Case=Nom|Number=Plur\t12\tamod\t_\t_\n",
            "12\tкрокодилы\tкрокодИЛА\tNOUN\tNN\tAnimacy=Inan|Case=Nom|Gender=Masc|Number=Plur\t13\tnsubj\t_\t_\n",
            "13\tБудут\tБЫТЬ\tVERB\tVBC\tAspect=Imp|Mood=Ind|Number=Plur|Person=3|Tense=Pres|VerbForm=Fin\t0\troot\t_\t_\n",
            "14\tвас\tВЫ\tPRON\tPRP\tCase=Acc|Number=Plur|Person=2\t15\tnsubj\t_\t_\n",
            "15\tкусать\tкусать\tVERB\tVB\tAspect=Imp|VerbForm=Inf\t13\txcomp\t_\tSpaceAfter=No\n",
            "16\t,\t,\tPUNCT\t,\t_\t17\tpunct\t_\t_\n",
            "17\tБить\tБить\tVERB\tVB\tAspect=Imp|VerbForm=Inf\t15\tconj\t_\t_\n",
            "18\tи\tИ\tCCONJ\tCC\t_\t19\tcc\t_\t_\n",
            "19\tобижать\tобижать\tVERB\tVB\tAspect=Imp|VerbForm=Inf\t17\tconj\t_\tSpaceAfter=No\n",
            "20\t,\t,\tPUNCT\t,\t_\t23\tpunct\t_\tSpaceAfter=No\n",
            "21\t-\t-\tPUNCT\t-\t_\t20\tgoeswith\t_\t_\n",
            "22\tНе\tНЕ\tPART\tNEG\tPolarity=Neg\t20\tgoeswith\t_\t_\n",
            "23\tходите\tходите\tVERB\tVBC\tAspect=Imp|Mood=Imp|Number=Plur|Person=2|VerbForm=Fin\t13\tconj\t_\tSpaceAfter=No\n",
            "24\t,\t,\tPUNCT\t,\t_\t25\tpunct\t_\t_\n",
            "25\tдети\tРЕБЕНОК\tNOUN\tNN\tAnimacy=Anim|Case=Nom|Gender=Masc|Number=Plur\t13\tconj\t_\tSpaceAfter=No\n",
            "26\t,\t,\tPUNCT\t,\t_\t29\tpunct\t_\t_\n",
            "27\tВ\tВ\tADP\tIN\t_\t28\tcase\t_\t_\n",
            "28\tАфрику\tАФРИКА\tPROPN\tNNP\tAnimacy=Inan|Case=Acc|Gender=Fem|Number=Sing\t29\tobl\t_\t_\n",
            "29\tгулять\tГУЛЯТЬ\tVERB\tVB\tAspect=Imp|VerbForm=Inf\t13\tconj\t_\tSpaceAfter=No\n",
            "30\t.\t.\tPUNCT\t.\t_\t13\tpunct\t_\tSpacesAfter=\\n\n",
            "\n",
            "\n"
          ]
        }
      ]
    },
    {
      "cell_type": "code",
      "source": [
        "ud = conllu_to_list(parsed)\n",
        "ud_graph = DependencyGraph(tree_str=ud[0])\n",
        "ud_graph"
      ],
      "metadata": {
        "colab": {
          "base_uri": "https://localhost:8080/",
          "height": 660
        },
        "id": "8i7tVRVExiii",
        "outputId": "181c57d9-256c-4923-b127-9bbbcab10b39"
      },
      "id": "8i7tVRVExiii",
      "execution_count": 12,
      "outputs": [
        {
          "output_type": "execute_result",
          "data": {
            "text/plain": [
              "<DependencyGraph with 31 nodes>"
            ],
            "image/svg+xml": "<?xml version=\"1.0\" encoding=\"UTF-8\" standalone=\"no\"?>\n<!DOCTYPE svg PUBLIC \"-//W3C//DTD SVG 1.1//EN\"\n \"http://www.w3.org/Graphics/SVG/1.1/DTD/svg11.dtd\">\n<!-- Generated by graphviz version 2.40.1 (20161225.0304)\n -->\n<!-- Title: G Pages: 1 -->\n<svg width=\"963pt\" height=\"479pt\"\n viewBox=\"0.00 0.00 963.00 479.00\" xmlns=\"http://www.w3.org/2000/svg\" xmlns:xlink=\"http://www.w3.org/1999/xlink\">\n<g id=\"graph0\" class=\"graph\" transform=\"scale(1 1) rotate(0) translate(4 475)\">\n<title>G</title>\n<polygon fill=\"#ffffff\" stroke=\"transparent\" points=\"-4,4 -4,-475 959,-475 959,4 -4,4\"/>\n<!-- 0 -->\n<g id=\"node1\" class=\"node\">\n<title>0</title>\n<text text-anchor=\"middle\" x=\"634\" y=\"-449.3\" font-family=\"Times,serif\" font-size=\"14.00\" fill=\"#000000\">0 (None)</text>\n</g>\n<!-- 13 -->\n<g id=\"node2\" class=\"node\">\n<title>13</title>\n<text text-anchor=\"middle\" x=\"634\" y=\"-362.3\" font-family=\"Times,serif\" font-size=\"14.00\" fill=\"#000000\">13 (Будут)</text>\n</g>\n<!-- 0&#45;&gt;13 -->\n<g id=\"edge1\" class=\"edge\">\n<title>0&#45;&gt;13</title>\n<path fill=\"none\" stroke=\"#000000\" d=\"M634,-434.9735C634,-423.1918 634,-407.5607 634,-394.1581\"/>\n<polygon fill=\"#000000\" stroke=\"#000000\" points=\"637.5001,-394.0033 634,-384.0034 630.5001,-394.0034 637.5001,-394.0033\"/>\n<text text-anchor=\"middle\" x=\"654\" y=\"-405.8\" font-family=\"Times,serif\" font-size=\"14.00\" fill=\"#000000\">ROOT</text>\n</g>\n<!-- 2 -->\n<g id=\"node4\" class=\"node\">\n<title>2</title>\n<text text-anchor=\"middle\" x=\"205\" y=\"-275.3\" font-family=\"Times,serif\" font-size=\"14.00\" fill=\"#000000\">2 (Африке)</text>\n</g>\n<!-- 13&#45;&gt;2 -->\n<g id=\"edge12\" class=\"edge\">\n<title>13&#45;&gt;2</title>\n<path fill=\"none\" stroke=\"#000000\" d=\"M593.6407,-357.8153C515.2919,-341.9263 342.7225,-306.9297 256.3522,-289.4141\"/>\n<polygon fill=\"#000000\" stroke=\"#000000\" points=\"257.0058,-285.9755 246.5096,-287.418 255.6145,-292.8358 257.0058,-285.9755\"/>\n<text text-anchor=\"middle\" x=\"455.5\" y=\"-318.8\" font-family=\"Times,serif\" font-size=\"14.00\" fill=\"#000000\">obl</text>\n</g>\n<!-- 12 -->\n<g id=\"node14\" class=\"node\">\n<title>12</title>\n<text text-anchor=\"middle\" x=\"412\" y=\"-275.3\" font-family=\"Times,serif\" font-size=\"14.00\" fill=\"#000000\">12 (крокодилы)</text>\n</g>\n<!-- 13&#45;&gt;12 -->\n<g id=\"edge13\" class=\"edge\">\n<title>13&#45;&gt;12</title>\n<path fill=\"none\" stroke=\"#000000\" d=\"M593.7427,-351.1671C576.533,-344.758 556.243,-337.1112 538,-330 514.0473,-320.6631 487.6638,-310.0374 465.2557,-300.9106\"/>\n<polygon fill=\"#000000\" stroke=\"#000000\" points=\"466.4955,-297.6363 455.9143,-297.0989 463.8509,-304.1176 466.4955,-297.6363\"/>\n<text text-anchor=\"middle\" x=\"554\" y=\"-318.8\" font-family=\"Times,serif\" font-size=\"14.00\" fill=\"#000000\">nsubj</text>\n</g>\n<!-- 15 -->\n<g id=\"node15\" class=\"node\">\n<title>15</title>\n<text text-anchor=\"middle\" x=\"532\" y=\"-275.3\" font-family=\"Times,serif\" font-size=\"14.00\" fill=\"#000000\">15 (кусать)</text>\n</g>\n<!-- 13&#45;&gt;15 -->\n<g id=\"edge14\" class=\"edge\">\n<title>13&#45;&gt;15</title>\n<path fill=\"none\" stroke=\"#000000\" d=\"M611.4889,-347.8385C604.5546,-342.1754 596.9245,-335.874 590,-330 580.0944,-321.5972 569.3801,-312.2507 559.8876,-303.8781\"/>\n<polygon fill=\"#000000\" stroke=\"#000000\" points=\"562.0543,-301.1218 552.2459,-297.1162 557.4156,-306.3642 562.0543,-301.1218\"/>\n<text text-anchor=\"middle\" x=\"610\" y=\"-318.8\" font-family=\"Times,serif\" font-size=\"14.00\" fill=\"#000000\">xcomp</text>\n</g>\n<!-- 23 -->\n<g id=\"node16\" class=\"node\">\n<title>23</title>\n<text text-anchor=\"middle\" x=\"634\" y=\"-275.3\" font-family=\"Times,serif\" font-size=\"14.00\" fill=\"#000000\">23 (ходите)</text>\n</g>\n<!-- 13&#45;&gt;23 -->\n<g id=\"edge15\" class=\"edge\">\n<title>13&#45;&gt;23</title>\n<path fill=\"none\" stroke=\"#000000\" d=\"M634,-347.9735C634,-336.1918 634,-320.5607 634,-307.1581\"/>\n<polygon fill=\"#000000\" stroke=\"#000000\" points=\"637.5001,-307.0033 634,-297.0034 630.5001,-307.0034 637.5001,-307.0033\"/>\n<text text-anchor=\"middle\" x=\"646.5\" y=\"-318.8\" font-family=\"Times,serif\" font-size=\"14.00\" fill=\"#000000\">conj</text>\n</g>\n<!-- 25 -->\n<g id=\"node17\" class=\"node\">\n<title>25</title>\n<text text-anchor=\"middle\" x=\"730\" y=\"-275.3\" font-family=\"Times,serif\" font-size=\"14.00\" fill=\"#000000\">25 (дети)</text>\n</g>\n<!-- 13&#45;&gt;25 -->\n<g id=\"edge16\" class=\"edge\">\n<title>13&#45;&gt;25</title>\n<path fill=\"none\" stroke=\"#000000\" d=\"M653.8913,-347.9735C667.9216,-335.2586 686.899,-318.0603 702.3936,-304.0183\"/>\n<polygon fill=\"#000000\" stroke=\"#000000\" points=\"705.0747,-306.3121 710.1342,-297.0034 700.374,-301.1251 705.0747,-306.3121\"/>\n<text text-anchor=\"middle\" x=\"700.5\" y=\"-318.8\" font-family=\"Times,serif\" font-size=\"14.00\" fill=\"#000000\">conj</text>\n</g>\n<!-- 29 -->\n<g id=\"node18\" class=\"node\">\n<title>29</title>\n<text text-anchor=\"middle\" x=\"825\" y=\"-275.3\" font-family=\"Times,serif\" font-size=\"14.00\" fill=\"#000000\">29 (гулять)</text>\n</g>\n<!-- 13&#45;&gt;29 -->\n<g id=\"edge17\" class=\"edge\">\n<title>13&#45;&gt;29</title>\n<path fill=\"none\" stroke=\"#000000\" d=\"M674.2198,-348.8621C687.8436,-342.9755 703.1211,-336.2849 717,-330 737.0371,-320.9264 759.0124,-310.6157 777.8793,-301.6511\"/>\n<polygon fill=\"#000000\" stroke=\"#000000\" points=\"779.628,-304.6949 787.1514,-297.2351 776.6181,-298.3751 779.628,-304.6949\"/>\n<text text-anchor=\"middle\" x=\"759.5\" y=\"-318.8\" font-family=\"Times,serif\" font-size=\"14.00\" fill=\"#000000\">conj</text>\n</g>\n<!-- 30 -->\n<g id=\"node19\" class=\"node\">\n<title>30</title>\n<text text-anchor=\"middle\" x=\"912\" y=\"-275.3\" font-family=\"Times,serif\" font-size=\"14.00\" fill=\"#000000\">30 (.)</text>\n</g>\n<!-- 13&#45;&gt;30 -->\n<g id=\"edge18\" class=\"edge\">\n<title>13&#45;&gt;30</title>\n<path fill=\"none\" stroke=\"#000000\" d=\"M674.1259,-357.331C722.6957,-346.2007 806.4927,-324.9414 875,-297 875.0992,-296.9595 875.1985,-296.9189 875.298,-296.8782\"/>\n<polygon fill=\"#000000\" stroke=\"#000000\" points=\"876.9369,-299.9818 884.7024,-292.7743 874.1372,-293.566 876.9369,-299.9818\"/>\n<text text-anchor=\"middle\" x=\"840.5\" y=\"-318.8\" font-family=\"Times,serif\" font-size=\"14.00\" fill=\"#000000\">punct</text>\n</g>\n<!-- 1 -->\n<g id=\"node3\" class=\"node\">\n<title>1</title>\n<text text-anchor=\"middle\" x=\"27\" y=\"-188.3\" font-family=\"Times,serif\" font-size=\"14.00\" fill=\"#000000\">1 (В)</text>\n</g>\n<!-- 2&#45;&gt;1 -->\n<g id=\"edge2\" class=\"edge\">\n<title>2&#45;&gt;1</title>\n<path fill=\"none\" stroke=\"#000000\" d=\"M163.1349,-261.0218C150.4808,-255.4193 136.6028,-249.1055 124,-243 103.7325,-233.1812 81.4699,-221.5391 63.39,-211.8589\"/>\n<polygon fill=\"#000000\" stroke=\"#000000\" points=\"64.8142,-208.6508 54.3494,-206.9957 61.498,-214.8155 64.8142,-208.6508\"/>\n<text text-anchor=\"middle\" x=\"136\" y=\"-231.8\" font-family=\"Times,serif\" font-size=\"14.00\" fill=\"#000000\">case</text>\n</g>\n<!-- 3 -->\n<g id=\"node5\" class=\"node\">\n<title>3</title>\n<text text-anchor=\"middle\" x=\"109\" y=\"-188.3\" font-family=\"Times,serif\" font-size=\"14.00\" fill=\"#000000\">3 (акулы)</text>\n</g>\n<!-- 2&#45;&gt;3 -->\n<g id=\"edge3\" class=\"edge\">\n<title>2&#45;&gt;3</title>\n<path fill=\"none\" stroke=\"#000000\" d=\"M185.1087,-260.9735C171.0784,-248.2586 152.101,-231.0603 136.6064,-217.0183\"/>\n<polygon fill=\"#000000\" stroke=\"#000000\" points=\"138.626,-214.1251 128.8658,-210.0034 133.9253,-219.3121 138.626,-214.1251\"/>\n<text text-anchor=\"middle\" x=\"175.5\" y=\"-231.8\" font-family=\"Times,serif\" font-size=\"14.00\" fill=\"#000000\">conj</text>\n</g>\n<!-- 6 -->\n<g id=\"node6\" class=\"node\">\n<title>6</title>\n<text text-anchor=\"middle\" x=\"205\" y=\"-188.3\" font-family=\"Times,serif\" font-size=\"14.00\" fill=\"#000000\">6 (Африке)</text>\n</g>\n<!-- 2&#45;&gt;6 -->\n<g id=\"edge4\" class=\"edge\">\n<title>2&#45;&gt;6</title>\n<path fill=\"none\" stroke=\"#000000\" d=\"M205,-260.9735C205,-249.1918 205,-233.5607 205,-220.1581\"/>\n<polygon fill=\"#000000\" stroke=\"#000000\" points=\"208.5001,-220.0033 205,-210.0034 201.5001,-220.0034 208.5001,-220.0033\"/>\n<text text-anchor=\"middle\" x=\"217.5\" y=\"-231.8\" font-family=\"Times,serif\" font-size=\"14.00\" fill=\"#000000\">conj</text>\n</g>\n<!-- 9 -->\n<g id=\"node7\" class=\"node\">\n<title>9</title>\n<text text-anchor=\"middle\" x=\"306\" y=\"-188.3\" font-family=\"Times,serif\" font-size=\"14.00\" fill=\"#000000\">9 (Африке)</text>\n</g>\n<!-- 2&#45;&gt;9 -->\n<g id=\"edge5\" class=\"edge\">\n<title>2&#45;&gt;9</title>\n<path fill=\"none\" stroke=\"#000000\" d=\"M225.9273,-260.9735C240.8238,-248.1419 261.0209,-230.7443 277.4035,-216.6326\"/>\n<polygon fill=\"#000000\" stroke=\"#000000\" points=\"279.8071,-219.1817 285.0995,-210.0034 275.2386,-213.878 279.8071,-219.1817\"/>\n<text text-anchor=\"middle\" x=\"271.5\" y=\"-231.8\" font-family=\"Times,serif\" font-size=\"14.00\" fill=\"#000000\">flat</text>\n</g>\n<!-- 4 -->\n<g id=\"node8\" class=\"node\">\n<title>4</title>\n<text text-anchor=\"middle\" x=\"43\" y=\"-101.3\" font-family=\"Times,serif\" font-size=\"14.00\" fill=\"#000000\">4 (,)</text>\n</g>\n<!-- 3&#45;&gt;4 -->\n<g id=\"edge6\" class=\"edge\">\n<title>3&#45;&gt;4</title>\n<path fill=\"none\" stroke=\"#000000\" d=\"M78.1596,-173.8365C71.455,-168.7499 64.9094,-162.741 60,-156 55.055,-149.21 51.4858,-140.8909 48.9363,-132.9569\"/>\n<polygon fill=\"#000000\" stroke=\"#000000\" points=\"52.288,-131.9462 46.2253,-123.2574 45.5463,-133.8304 52.288,-131.9462\"/>\n<text text-anchor=\"middle\" x=\"76.5\" y=\"-144.8\" font-family=\"Times,serif\" font-size=\"14.00\" fill=\"#000000\">punct</text>\n</g>\n<!-- 5 -->\n<g id=\"node9\" class=\"node\">\n<title>5</title>\n<text text-anchor=\"middle\" x=\"115\" y=\"-101.3\" font-family=\"Times,serif\" font-size=\"14.00\" fill=\"#000000\">5 (В)</text>\n</g>\n<!-- 6&#45;&gt;5 -->\n<g id=\"edge7\" class=\"edge\">\n<title>6&#45;&gt;5</title>\n<path fill=\"none\" stroke=\"#000000\" d=\"M186.3519,-173.9735C173.1985,-161.2586 155.4072,-144.0603 140.881,-130.0183\"/>\n<polygon fill=\"#000000\" stroke=\"#000000\" points=\"143.2467,-127.4371 133.6242,-123.0034 138.3815,-132.4701 143.2467,-127.4371\"/>\n<text text-anchor=\"middle\" x=\"178\" y=\"-144.8\" font-family=\"Times,serif\" font-size=\"14.00\" fill=\"#000000\">case</text>\n</g>\n<!-- 7 -->\n<g id=\"node10\" class=\"node\">\n<title>7</title>\n<text text-anchor=\"middle\" x=\"205\" y=\"-101.3\" font-family=\"Times,serif\" font-size=\"14.00\" fill=\"#000000\">7 (гориллы)</text>\n</g>\n<!-- 6&#45;&gt;7 -->\n<g id=\"edge8\" class=\"edge\">\n<title>6&#45;&gt;7</title>\n<path fill=\"none\" stroke=\"#000000\" d=\"M205,-173.9735C205,-162.1918 205,-146.5607 205,-133.1581\"/>\n<polygon fill=\"#000000\" stroke=\"#000000\" points=\"208.5001,-133.0033 205,-123.0034 201.5001,-133.0034 208.5001,-133.0033\"/>\n<text text-anchor=\"middle\" x=\"222\" y=\"-144.8\" font-family=\"Times,serif\" font-size=\"14.00\" fill=\"#000000\">appos</text>\n</g>\n<!-- 8 -->\n<g id=\"node11\" class=\"node\">\n<title>8</title>\n<text text-anchor=\"middle\" x=\"295\" y=\"-101.3\" font-family=\"Times,serif\" font-size=\"14.00\" fill=\"#000000\">8 (,)</text>\n</g>\n<!-- 6&#45;&gt;8 -->\n<g id=\"edge9\" class=\"edge\">\n<title>6&#45;&gt;8</title>\n<path fill=\"none\" stroke=\"#000000\" d=\"M224.3931,-173.7503C230.3799,-168.0836 236.9806,-161.8023 243,-156 251.6432,-147.6686 261.0273,-138.5026 269.414,-130.2668\"/>\n<polygon fill=\"#000000\" stroke=\"#000000\" points=\"272.1111,-132.5232 276.7859,-123.0155 267.2023,-127.5328 272.1111,-132.5232\"/>\n<text text-anchor=\"middle\" x=\"274.5\" y=\"-144.8\" font-family=\"Times,serif\" font-size=\"14.00\" fill=\"#000000\">punct</text>\n</g>\n<!-- 10 -->\n<g id=\"node12\" class=\"node\">\n<title>10</title>\n<text text-anchor=\"middle\" x=\"389\" y=\"-101.3\" font-family=\"Times,serif\" font-size=\"14.00\" fill=\"#000000\">10 (большие)</text>\n</g>\n<!-- 9&#45;&gt;10 -->\n<g id=\"edge10\" class=\"edge\">\n<title>9&#45;&gt;10</title>\n<path fill=\"none\" stroke=\"#000000\" d=\"M323.1977,-173.9735C335.2167,-161.3752 351.4349,-144.3755 364.7625,-130.4055\"/>\n<polygon fill=\"#000000\" stroke=\"#000000\" points=\"367.454,-132.6548 371.8244,-123.0034 362.3892,-127.8228 367.454,-132.6548\"/>\n<text text-anchor=\"middle\" x=\"369.5\" y=\"-144.8\" font-family=\"Times,serif\" font-size=\"14.00\" fill=\"#000000\">amod</text>\n</g>\n<!-- 11 -->\n<g id=\"node13\" class=\"node\">\n<title>11</title>\n<text text-anchor=\"middle\" x=\"403\" y=\"-188.3\" font-family=\"Times,serif\" font-size=\"14.00\" fill=\"#000000\">11 (Злые)</text>\n</g>\n<!-- 12&#45;&gt;11 -->\n<g id=\"edge11\" class=\"edge\">\n<title>12&#45;&gt;11</title>\n<path fill=\"none\" stroke=\"#000000\" d=\"M410.1352,-260.9735C408.9164,-249.1918 407.2994,-233.5607 405.9129,-220.1581\"/>\n<polygon fill=\"#000000\" stroke=\"#000000\" points=\"409.3729,-219.5901 404.8624,-210.0034 402.4101,-220.3105 409.3729,-219.5901\"/>\n<text text-anchor=\"middle\" x=\"425.5\" y=\"-231.8\" font-family=\"Times,serif\" font-size=\"14.00\" fill=\"#000000\">amod</text>\n</g>\n<!-- 14 -->\n<g id=\"node20\" class=\"node\">\n<title>14</title>\n<text text-anchor=\"middle\" x=\"490\" y=\"-188.3\" font-family=\"Times,serif\" font-size=\"14.00\" fill=\"#000000\">14 (вас)</text>\n</g>\n<!-- 15&#45;&gt;14 -->\n<g id=\"edge19\" class=\"edge\">\n<title>15&#45;&gt;14</title>\n<path fill=\"none\" stroke=\"#000000\" d=\"M517.966,-260.9436C514.0675,-255.3904 510.0671,-249.1231 507,-243 503.3961,-235.8052 500.2915,-227.6719 497.7586,-220.0482\"/>\n<polygon fill=\"#000000\" stroke=\"#000000\" points=\"501.0815,-218.9471 494.7642,-210.4417 494.3986,-221.0302 501.0815,-218.9471\"/>\n<text text-anchor=\"middle\" x=\"523\" y=\"-231.8\" font-family=\"Times,serif\" font-size=\"14.00\" fill=\"#000000\">nsubj</text>\n</g>\n<!-- 17 -->\n<g id=\"node21\" class=\"node\">\n<title>17</title>\n<text text-anchor=\"middle\" x=\"576\" y=\"-188.3\" font-family=\"Times,serif\" font-size=\"14.00\" fill=\"#000000\">17 (Бить)</text>\n</g>\n<!-- 15&#45;&gt;17 -->\n<g id=\"edge20\" class=\"edge\">\n<title>15&#45;&gt;17</title>\n<path fill=\"none\" stroke=\"#000000\" d=\"M541.1168,-260.9735C547.2524,-248.8418 555.4522,-232.6287 562.3601,-218.9698\"/>\n<polygon fill=\"#000000\" stroke=\"#000000\" points=\"565.505,-220.5066 566.8949,-210.0034 559.2584,-217.3474 565.505,-220.5066\"/>\n<text text-anchor=\"middle\" x=\"569.5\" y=\"-231.8\" font-family=\"Times,serif\" font-size=\"14.00\" fill=\"#000000\">conj</text>\n</g>\n<!-- 20 -->\n<g id=\"node25\" class=\"node\">\n<title>20</title>\n<text text-anchor=\"middle\" x=\"663\" y=\"-188.3\" font-family=\"Times,serif\" font-size=\"14.00\" fill=\"#000000\">20 (,)</text>\n</g>\n<!-- 23&#45;&gt;20 -->\n<g id=\"edge26\" class=\"edge\">\n<title>23&#45;&gt;20</title>\n<path fill=\"none\" stroke=\"#000000\" d=\"M640.0088,-260.9735C643.975,-249.0751 649.2497,-233.2508 653.7465,-219.7606\"/>\n<polygon fill=\"#000000\" stroke=\"#000000\" points=\"657.1569,-220.597 656.9989,-210.0034 650.5161,-218.3834 657.1569,-220.597\"/>\n<text text-anchor=\"middle\" x=\"667.5\" y=\"-231.8\" font-family=\"Times,serif\" font-size=\"14.00\" fill=\"#000000\">punct</text>\n</g>\n<!-- 24 -->\n<g id=\"node28\" class=\"node\">\n<title>24</title>\n<text text-anchor=\"middle\" x=\"735\" y=\"-188.3\" font-family=\"Times,serif\" font-size=\"14.00\" fill=\"#000000\">24 (,)</text>\n</g>\n<!-- 25&#45;&gt;24 -->\n<g id=\"edge27\" class=\"edge\">\n<title>25&#45;&gt;24</title>\n<path fill=\"none\" stroke=\"#000000\" d=\"M731.036,-260.9735C731.7131,-249.1918 732.6115,-233.5607 733.3817,-220.1581\"/>\n<polygon fill=\"#000000\" stroke=\"#000000\" points=\"736.8857,-220.1877 733.9653,-210.0034 729.8972,-219.786 736.8857,-220.1877\"/>\n<text text-anchor=\"middle\" x=\"749.5\" y=\"-231.8\" font-family=\"Times,serif\" font-size=\"14.00\" fill=\"#000000\">punct</text>\n</g>\n<!-- 26 -->\n<g id=\"node29\" class=\"node\">\n<title>26</title>\n<text text-anchor=\"middle\" x=\"818\" y=\"-188.3\" font-family=\"Times,serif\" font-size=\"14.00\" fill=\"#000000\">26 (,)</text>\n</g>\n<!-- 29&#45;&gt;26 -->\n<g id=\"edge29\" class=\"edge\">\n<title>29&#45;&gt;26</title>\n<path fill=\"none\" stroke=\"#000000\" d=\"M823.5496,-260.9735C822.6016,-249.1918 821.344,-233.5607 820.2656,-220.1581\"/>\n<polygon fill=\"#000000\" stroke=\"#000000\" points=\"823.7394,-219.6904 819.4485,-210.0034 816.7619,-220.2519 823.7394,-219.6904\"/>\n<text text-anchor=\"middle\" x=\"838.5\" y=\"-231.8\" font-family=\"Times,serif\" font-size=\"14.00\" fill=\"#000000\">punct</text>\n</g>\n<!-- 28 -->\n<g id=\"node31\" class=\"node\">\n<title>28</title>\n<text text-anchor=\"middle\" x=\"909\" y=\"-188.3\" font-family=\"Times,serif\" font-size=\"14.00\" fill=\"#000000\">28 (Африку)</text>\n</g>\n<!-- 29&#45;&gt;28 -->\n<g id=\"edge30\" class=\"edge\">\n<title>29&#45;&gt;28</title>\n<path fill=\"none\" stroke=\"#000000\" d=\"M842.4049,-260.9735C854.5688,-248.3752 870.9823,-231.3755 884.4705,-217.4055\"/>\n<polygon fill=\"#000000\" stroke=\"#000000\" points=\"887.1894,-219.6285 891.6174,-210.0034 882.1536,-214.7663 887.1894,-219.6285\"/>\n<text text-anchor=\"middle\" x=\"882.5\" y=\"-231.8\" font-family=\"Times,serif\" font-size=\"14.00\" fill=\"#000000\">obl</text>\n</g>\n<!-- 16 -->\n<g id=\"node22\" class=\"node\">\n<title>16</title>\n<text text-anchor=\"middle\" x=\"483\" y=\"-101.3\" font-family=\"Times,serif\" font-size=\"14.00\" fill=\"#000000\">16 (,)</text>\n</g>\n<!-- 17&#45;&gt;16 -->\n<g id=\"edge21\" class=\"edge\">\n<title>17&#45;&gt;16</title>\n<path fill=\"none\" stroke=\"#000000\" d=\"M556.7303,-173.9735C543.1385,-161.2586 524.7541,-144.0603 509.7437,-130.0183\"/>\n<polygon fill=\"#000000\" stroke=\"#000000\" points=\"511.9388,-127.279 502.245,-123.0034 507.1567,-132.3909 511.9388,-127.279\"/>\n<text text-anchor=\"middle\" x=\"552.5\" y=\"-144.8\" font-family=\"Times,serif\" font-size=\"14.00\" fill=\"#000000\">punct</text>\n</g>\n<!-- 19 -->\n<g id=\"node23\" class=\"node\">\n<title>19</title>\n<text text-anchor=\"middle\" x=\"576\" y=\"-101.3\" font-family=\"Times,serif\" font-size=\"14.00\" fill=\"#000000\">19 (обижать)</text>\n</g>\n<!-- 17&#45;&gt;19 -->\n<g id=\"edge22\" class=\"edge\">\n<title>17&#45;&gt;19</title>\n<path fill=\"none\" stroke=\"#000000\" d=\"M576,-173.9735C576,-162.1918 576,-146.5607 576,-133.1581\"/>\n<polygon fill=\"#000000\" stroke=\"#000000\" points=\"579.5001,-133.0033 576,-123.0034 572.5001,-133.0034 579.5001,-133.0033\"/>\n<text text-anchor=\"middle\" x=\"588.5\" y=\"-144.8\" font-family=\"Times,serif\" font-size=\"14.00\" fill=\"#000000\">conj</text>\n</g>\n<!-- 18 -->\n<g id=\"node24\" class=\"node\">\n<title>18</title>\n<text text-anchor=\"middle\" x=\"576\" y=\"-14.3\" font-family=\"Times,serif\" font-size=\"14.00\" fill=\"#000000\">18 (и)</text>\n</g>\n<!-- 19&#45;&gt;18 -->\n<g id=\"edge23\" class=\"edge\">\n<title>19&#45;&gt;18</title>\n<path fill=\"none\" stroke=\"#000000\" d=\"M576,-86.9735C576,-75.1918 576,-59.5607 576,-46.1581\"/>\n<polygon fill=\"#000000\" stroke=\"#000000\" points=\"579.5001,-46.0033 576,-36.0034 572.5001,-46.0034 579.5001,-46.0033\"/>\n<text text-anchor=\"middle\" x=\"582.5\" y=\"-57.8\" font-family=\"Times,serif\" font-size=\"14.00\" fill=\"#000000\">cc</text>\n</g>\n<!-- 21 -->\n<g id=\"node26\" class=\"node\">\n<title>21</title>\n<text text-anchor=\"middle\" x=\"669\" y=\"-101.3\" font-family=\"Times,serif\" font-size=\"14.00\" fill=\"#000000\">21 (&#45;)</text>\n</g>\n<!-- 20&#45;&gt;21 -->\n<g id=\"edge24\" class=\"edge\">\n<title>20&#45;&gt;21</title>\n<path fill=\"none\" stroke=\"#000000\" d=\"M664.2432,-173.9735C665.0557,-162.1918 666.1337,-146.5607 667.0581,-133.1581\"/>\n<polygon fill=\"#000000\" stroke=\"#000000\" points=\"670.562,-133.2205 667.7584,-123.0034 663.5786,-132.7388 670.562,-133.2205\"/>\n<text text-anchor=\"middle\" x=\"693\" y=\"-144.8\" font-family=\"Times,serif\" font-size=\"14.00\" fill=\"#000000\">goeswith</text>\n</g>\n<!-- 22 -->\n<g id=\"node27\" class=\"node\">\n<title>22</title>\n<text text-anchor=\"middle\" x=\"745\" y=\"-101.3\" font-family=\"Times,serif\" font-size=\"14.00\" fill=\"#000000\">22 (Не)</text>\n</g>\n<!-- 20&#45;&gt;22 -->\n<g id=\"edge25\" class=\"edge\">\n<title>20&#45;&gt;22</title>\n<path fill=\"none\" stroke=\"#000000\" d=\"M690.127,-177.856C703.5782,-170.4309 718.0005,-161.7139 723,-156 728.8686,-149.2929 733.3672,-140.7814 736.7201,-132.6426\"/>\n<polygon fill=\"#000000\" stroke=\"#000000\" points=\"740.0828,-133.6395 740.2568,-123.0461 733.5146,-131.2188 740.0828,-133.6395\"/>\n<text text-anchor=\"middle\" x=\"759\" y=\"-144.8\" font-family=\"Times,serif\" font-size=\"14.00\" fill=\"#000000\">goeswith</text>\n</g>\n<!-- 27 -->\n<g id=\"node30\" class=\"node\">\n<title>27</title>\n<text text-anchor=\"middle\" x=\"909\" y=\"-101.3\" font-family=\"Times,serif\" font-size=\"14.00\" fill=\"#000000\">27 (В)</text>\n</g>\n<!-- 28&#45;&gt;27 -->\n<g id=\"edge28\" class=\"edge\">\n<title>28&#45;&gt;27</title>\n<path fill=\"none\" stroke=\"#000000\" d=\"M909,-173.9735C909,-162.1918 909,-146.5607 909,-133.1581\"/>\n<polygon fill=\"#000000\" stroke=\"#000000\" points=\"912.5001,-133.0033 909,-123.0034 905.5001,-133.0034 912.5001,-133.0033\"/>\n<text text-anchor=\"middle\" x=\"921\" y=\"-144.8\" font-family=\"Times,serif\" font-size=\"14.00\" fill=\"#000000\">case</text>\n</g>\n</g>\n</svg>\n"
          },
          "metadata": {},
          "execution_count": 12
        }
      ]
    },
    {
      "cell_type": "code",
      "source": [
        ""
      ],
      "metadata": {
        "id": "1mT-lfJ4xpEf"
      },
      "id": "1mT-lfJ4xpEf",
      "execution_count": null,
      "outputs": []
    }
  ],
  "metadata": {
    "kernelspec": {
      "display_name": "Python 3",
      "language": "python",
      "name": "python3"
    },
    "language_info": {
      "codemirror_mode": {
        "name": "ipython",
        "version": 3
      },
      "file_extension": ".py",
      "mimetype": "text/x-python",
      "name": "python",
      "nbconvert_exporter": "python",
      "pygments_lexer": "ipython3",
      "version": "3.8.8"
    },
    "colab": {
      "name": "Exam_trees.ipynb",
      "provenance": [],
      "collapsed_sections": []
    }
  },
  "nbformat": 4,
  "nbformat_minor": 5
}